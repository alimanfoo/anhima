{
 "metadata": {
  "name": "",
  "signature": "sha256:23c3d16f40f6b64752d10cb6d7221b52ce179e351b6506eb1796aa328c3443ea"
 },
 "nbformat": 3,
 "nbformat_minor": 0,
 "worksheets": [
  {
   "cells": [
    {
     "cell_type": "code",
     "collapsed": false,
     "input": [
      "import numpy as np\n",
      "np.random.seed(1)\n",
      "import scipy.stats\n",
      "import sys\n",
      "import cProfile\n",
      "%load_ext memory_profiler\n",
      "# dev imports\n",
      "sys.path.insert(0, '../src')\n",
      "%reload_ext autoreload\n",
      "%autoreload 1\n",
      "%aimport anhima.sim\n",
      "%aimport anhima.gt\n",
      "%aimport anhima.ped"
     ],
     "language": "python",
     "metadata": {},
     "outputs": [],
     "prompt_number": 1
    },
    {
     "cell_type": "code",
     "collapsed": false,
     "input": [
      "# simulate random biallelic genotypes in a cross with 2 parents and 10 progeny\n",
      "n_samples = 12\n",
      "n_variants = 10**6\n",
      "ploidy = 2\n",
      "af_dist = scipy.stats.beta(a=.9, b=.1)\n",
      "p_missing = .1\n",
      "# progeny totally unrelated to parents, should give plenty of mendel errors\n",
      "genotypes = anhima.sim.simulate_biallelic_genotypes(n_variants, n_samples, \n",
      "                                                    af_dist=af_dist, \n",
      "                                                    p_missing=p_missing, \n",
      "                                                    ploidy=ploidy)\n",
      "parents = genotypes[:, :2, :]\n",
      "progeny = genotypes[:, 2:, :]"
     ],
     "language": "python",
     "metadata": {},
     "outputs": [],
     "prompt_number": 2
    },
    {
     "cell_type": "code",
     "collapsed": false,
     "input": [
      "me = anhima.ped.diploid_mendelian_error(parents, progeny)\n",
      "me"
     ],
     "language": "python",
     "metadata": {},
     "outputs": [
      {
       "metadata": {},
       "output_type": "pyout",
       "prompt_number": 3,
       "text": [
        "array([[0, 1, 0, ..., 0, 0, 0],\n",
        "       [0, 0, 0, ..., 0, 0, 0],\n",
        "       [0, 0, 0, ..., 0, 0, 0],\n",
        "       ..., \n",
        "       [0, 0, 0, ..., 0, 0, 0],\n",
        "       [0, 0, 0, ..., 0, 0, 0],\n",
        "       [0, 0, 0, ..., 0, 0, 0]], dtype=uint8)"
       ]
      }
     ],
     "prompt_number": 3
    },
    {
     "cell_type": "code",
     "collapsed": false,
     "input": [
      "%timeit anhima.ped.diploid_mendelian_error(parents, progeny)"
     ],
     "language": "python",
     "metadata": {},
     "outputs": [
      {
       "output_type": "stream",
       "stream": "stdout",
       "text": [
        "1 loops, best of 3: 406 ms per loop\n"
       ]
      }
     ],
     "prompt_number": 4
    },
    {
     "cell_type": "code",
     "collapsed": false,
     "input": [
      "%memit anhima.ped.diploid_mendelian_error(parents, progeny)"
     ],
     "language": "python",
     "metadata": {},
     "outputs": [
      {
       "output_type": "stream",
       "stream": "stdout",
       "text": [
        "peak memory: 193.83 MiB, increment: 33.83 MiB\n"
       ]
      }
     ],
     "prompt_number": 5
    },
    {
     "cell_type": "code",
     "collapsed": false,
     "input": [
      "cProfile.run('anhima.ped.diploid_mendelian_error(parents, progeny)', sort='time')"
     ],
     "language": "python",
     "metadata": {},
     "outputs": [
      {
       "output_type": "stream",
       "stream": "stdout",
       "text": [
        "         142 function calls in 0.419 seconds\n",
        "\n",
        "   Ordered by: internal time\n",
        "\n",
        "   ncalls  tottime  percall  cumtime  percall filename:lineno(function)\n",
        "        5    0.180    0.036    0.180    0.036 necompiler.py:662(evaluate)\n",
        "        2    0.131    0.065    0.235    0.118 gt.py:680(as_012)\n",
        "        2    0.049    0.025    0.049    0.025 gt.py:303(is_het)\n",
        "        2    0.045    0.022    0.045    0.022 {method 'reduce' of 'numpy.ufunc' objects}\n",
        "        1    0.010    0.010    0.010    0.010 {method 'astype' of 'numpy.ndarray' objects}\n",
        "        2    0.003    0.002    0.003    0.002 {method 'fill' of 'numpy.ndarray' objects}\n",
        "        1    0.001    0.001    0.419    0.419 ped.py:125(diploid_mendelian_error)\n",
        "        5    0.000    0.000    0.000    0.000 necompiler.py:462(getContext)\n",
        "        2    0.000    0.000    0.027    0.013 gt.py:489(is_hom_alt)\n",
        "        2    0.000    0.000    0.025    0.012 gt.py:398(is_hom_ref)\n",
        "       19    0.000    0.000    0.000    0.000 {numpy.core.multiarray.array}\n",
        "       19    0.000    0.000    0.000    0.000 numeric.py:392(asarray)\n",
        "        5    0.000    0.000    0.000    0.000 {sorted}\n",
        "       11    0.000    0.000    0.000    0.000 necompiler.py:611(getType)\n",
        "        2    0.000    0.000    0.000    0.000 {numpy.core.multiarray.empty}\n",
        "        2    0.000    0.000    0.045    0.022 _methods.py:15(_amax)\n",
        "        2    0.000    0.000    0.045    0.022 fromnumeric.py:2048(amax)\n",
        "        1    0.000    0.000    0.419    0.419 <string>:1(<module>)\n",
        "        5    0.000    0.000    0.000    0.000 {isinstance}\n",
        "       10    0.000    0.000    0.000    0.000 {sys._getframe}\n",
        "        5    0.000    0.000    0.000    0.000 {zip}\n",
        "        5    0.000    0.000    0.000    0.000 {method 'items' of 'dict' objects}\n",
        "        5    0.000    0.000    0.000    0.000 {method 'get' of 'dict' objects}\n",
        "        5    0.000    0.000    0.000    0.000 {method 'copy' of 'dict' objects}\n",
        "       11    0.000    0.000    0.000    0.000 {method 'append' of 'list' objects}\n",
        "       10    0.000    0.000    0.000    0.000 {method 'pop' of 'dict' objects}\n",
        "        1    0.000    0.000    0.000    0.000 {method 'disable' of '_lsprof.Profiler' objects}\n",
        "\n",
        "\n"
       ]
      }
     ],
     "prompt_number": 6
    },
    {
     "cell_type": "code",
     "collapsed": false,
     "input": [],
     "language": "python",
     "metadata": {},
     "outputs": [],
     "prompt_number": 6
    }
   ],
   "metadata": {}
  }
 ]
}