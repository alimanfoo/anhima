{
 "metadata": {
  "name": "",
  "signature": "sha256:db88ee3204c3fa939cd5d5d38851f9f609f054dc1679dc45bb802f822a6f1fae"
 },
 "nbformat": 3,
 "nbformat_minor": 0,
 "worksheets": [
  {
   "cells": [
    {
     "cell_type": "code",
     "collapsed": false,
     "input": [
      "import numpy as np\n",
      "np.random.seed(1)\n",
      "import scipy.stats\n",
      "import itertools\n",
      "import random\n",
      "random.seed(1)\n",
      "import matplotlib.pyplot as plt\n",
      "%matplotlib inline\n",
      "import sys\n",
      "import cProfile\n",
      "%load_ext memory_profiler\n",
      "# dev imports\n",
      "sys.path.insert(0, '../src')\n",
      "%reload_ext autoreload\n",
      "%autoreload 1\n",
      "%aimport anhima.sim\n",
      "%aimport anhima.gt\n",
      "%aimport anhima.ped"
     ],
     "language": "python",
     "metadata": {},
     "outputs": [],
     "prompt_number": 3
    },
    {
     "cell_type": "code",
     "collapsed": false,
     "input": [
      "# simulate random biallelic genotypes in a cross with 2 parents and 10 progeny\n",
      "n_samples = 12\n",
      "n_variants = 10**6\n",
      "ploidy = 2\n",
      "af_dist = scipy.stats.beta(a=.9, b=.1)\n",
      "p_missing = .1\n",
      "# progeny totally unrelated to parents, should give plenty of mendel errors\n",
      "genotypes = anhima.sim.simulate_biallelic_genotypes(n_variants, n_samples, \n",
      "                                                    af_dist=af_dist, \n",
      "                                                    p_missing=p_missing, \n",
      "                                                    ploidy=ploidy)\n",
      "parents = genotypes[:, :2, :]\n",
      "progeny = genotypes[:, 2:, :]"
     ],
     "language": "python",
     "metadata": {},
     "outputs": [],
     "prompt_number": 2
    },
    {
     "cell_type": "code",
     "collapsed": false,
     "input": [
      "me = anhima.ped.diploid_mendelian_error(parents, progeny)\n",
      "me"
     ],
     "language": "python",
     "metadata": {},
     "outputs": [
      {
       "metadata": {},
       "output_type": "pyout",
       "prompt_number": 21,
       "text": [
        "array([[0, 0, 0, ..., 0, 0, 0],\n",
        "       [0, 1, 0, ..., 0, 0, 0],\n",
        "       [0, 0, 0, ..., 0, 0, 0],\n",
        "       ..., \n",
        "       [0, 0, 0, ..., 0, 0, 0],\n",
        "       [1, 1, 1, ..., 1, 1, 0],\n",
        "       [0, 0, 0, ..., 0, 0, 0]], dtype=uint8)"
       ]
      }
     ],
     "prompt_number": 21
    },
    {
     "cell_type": "code",
     "collapsed": false,
     "input": [
      "%timeit anhima.ped.diploid_mendelian_error(parents, progeny)"
     ],
     "language": "python",
     "metadata": {},
     "outputs": [
      {
       "output_type": "stream",
       "stream": "stdout",
       "text": [
        "1 loops, best of 3: 416 ms per loop\n"
       ]
      }
     ],
     "prompt_number": 22
    },
    {
     "cell_type": "code",
     "collapsed": false,
     "input": [
      "%memit anhima.ped.diploid_mendelian_error(parents, progeny)"
     ],
     "language": "python",
     "metadata": {},
     "outputs": [
      {
       "output_type": "stream",
       "stream": "stdout",
       "text": [
        "peak memory: 351.09 MiB, increment: 25.33 MiB\n"
       ]
      }
     ],
     "prompt_number": 23
    },
    {
     "cell_type": "code",
     "collapsed": false,
     "input": [
      "cProfile.run('anhima.ped.diploid_mendelian_error(parents, progeny)', sort='time')"
     ],
     "language": "python",
     "metadata": {},
     "outputs": [
      {
       "output_type": "stream",
       "stream": "stdout",
       "text": [
        "         142 function calls in 0.424 seconds\n",
        "\n",
        "   Ordered by: internal time\n",
        "\n",
        "   ncalls  tottime  percall  cumtime  percall filename:lineno(function)\n",
        "        5    0.186    0.037    0.187    0.037 necompiler.py:662(evaluate)\n",
        "        2    0.129    0.064    0.235    0.117 gt.py:680(as_012)\n",
        "        2    0.048    0.024    0.048    0.024 gt.py:303(is_het)\n",
        "        2    0.047    0.024    0.047    0.024 {method 'reduce' of 'numpy.ufunc' objects}\n",
        "        1    0.010    0.010    0.010    0.010 {method 'astype' of 'numpy.ndarray' objects}\n",
        "        2    0.003    0.002    0.003    0.002 {method 'fill' of 'numpy.ndarray' objects}\n",
        "        1    0.000    0.000    0.424    0.424 ped.py:125(diploid_mendelian_error)\n",
        "        5    0.000    0.000    0.000    0.000 necompiler.py:462(getContext)\n",
        "        2    0.000    0.000    0.025    0.012 gt.py:398(is_hom_ref)\n",
        "        2    0.000    0.000    0.031    0.015 gt.py:489(is_hom_alt)\n",
        "       19    0.000    0.000    0.000    0.000 {numpy.core.multiarray.array}\n",
        "       19    0.000    0.000    0.000    0.000 numeric.py:392(asarray)\n",
        "        5    0.000    0.000    0.000    0.000 {sorted}\n",
        "       11    0.000    0.000    0.000    0.000 necompiler.py:611(getType)\n",
        "        2    0.000    0.000    0.000    0.000 {numpy.core.multiarray.empty}\n",
        "        2    0.000    0.000    0.047    0.024 _methods.py:15(_amax)\n",
        "        2    0.000    0.000    0.047    0.024 fromnumeric.py:2048(amax)\n",
        "        1    0.000    0.000    0.424    0.424 <string>:1(<module>)\n",
        "        5    0.000    0.000    0.000    0.000 {isinstance}\n",
        "        5    0.000    0.000    0.000    0.000 {zip}\n",
        "       10    0.000    0.000    0.000    0.000 {sys._getframe}\n",
        "        5    0.000    0.000    0.000    0.000 {method 'items' of 'dict' objects}\n",
        "        5    0.000    0.000    0.000    0.000 {method 'copy' of 'dict' objects}\n",
        "        5    0.000    0.000    0.000    0.000 {method 'get' of 'dict' objects}\n",
        "       10    0.000    0.000    0.000    0.000 {method 'pop' of 'dict' objects}\n",
        "       11    0.000    0.000    0.000    0.000 {method 'append' of 'list' objects}\n",
        "        1    0.000    0.000    0.000    0.000 {method 'disable' of '_lsprof.Profiler' objects}\n",
        "\n",
        "\n"
       ]
      }
     ],
     "prompt_number": 24
    },
    {
     "cell_type": "code",
     "collapsed": false,
     "input": [],
     "language": "python",
     "metadata": {},
     "outputs": []
    }
   ],
   "metadata": {}
  }
 ]
}