{
 "metadata": {
  "name": "",
  "signature": "sha256:de98bf60ab63a4dfcd2a3bfd86cff663a55e7db5c33d839e1225b442b4538e11"
 },
 "nbformat": 3,
 "nbformat_minor": 0,
 "worksheets": [
  {
   "cells": [
    {
     "cell_type": "code",
     "collapsed": false,
     "input": [
      "from __future__ import print_function\n",
      "import numpy as np\n",
      "np.random.seed(1)\n",
      "import scipy.stats\n",
      "import sys\n",
      "import cProfile\n",
      "%reload_ext memory_profiler\n",
      "# dev imports\n",
      "sys.path.insert(0, '../src')\n",
      "%reload_ext autoreload\n",
      "%autoreload 1\n",
      "%aimport anhima.sim\n",
      "%aimport anhima.gt\n",
      "%aimport anhima.ped"
     ],
     "language": "python",
     "metadata": {},
     "outputs": [],
     "prompt_number": 21
    },
    {
     "cell_type": "code",
     "collapsed": false,
     "input": [
      "# simulate random biallelic genotypes in a cross with 2 parents and 10 progeny\n",
      "n_samples = 12\n",
      "n_variants = 10**6\n",
      "ploidy = 2\n",
      "af_dist = scipy.stats.beta(a=.9, b=.1)\n",
      "p_missing = .1\n",
      "# progeny totally unrelated to parents, should give plenty of mendel errors\n",
      "genotypes = anhima.sim.simulate_biallelic_genotypes(n_variants, n_samples, \n",
      "                                                    af_dist=af_dist, \n",
      "                                                    p_missing=p_missing, \n",
      "                                                    ploidy=ploidy)\n",
      "parents = genotypes[:, :2, :]\n",
      "progeny = genotypes[:, 2:, :]"
     ],
     "language": "python",
     "metadata": {},
     "outputs": [],
     "prompt_number": 2
    },
    {
     "cell_type": "code",
     "collapsed": false,
     "input": [
      "me = anhima.ped.diploid_mendelian_error(parents, progeny)\n",
      "me"
     ],
     "language": "python",
     "metadata": {},
     "outputs": [
      {
       "metadata": {},
       "output_type": "pyout",
       "prompt_number": 3,
       "text": [
        "array([[0, 1, 0, ..., 0, 0, 0],\n",
        "       [0, 1, 0, ..., 0, 0, 0],\n",
        "       [0, 0, 0, ..., 0, 0, 0],\n",
        "       ..., \n",
        "       [0, 0, 0, ..., 0, 0, 0],\n",
        "       [1, 1, 1, ..., 0, 1, 1],\n",
        "       [0, 0, 0, ..., 0, 0, 0]], dtype=uint8)"
       ]
      }
     ],
     "prompt_number": 3
    },
    {
     "cell_type": "code",
     "collapsed": false,
     "input": [
      "%timeit anhima.ped.diploid_mendelian_error(parents, progeny)"
     ],
     "language": "python",
     "metadata": {},
     "outputs": [
      {
       "output_type": "stream",
       "stream": "stdout",
       "text": [
        "1 loops, best of 3: 447 ms per loop\n"
       ]
      }
     ],
     "prompt_number": 4
    },
    {
     "cell_type": "code",
     "collapsed": false,
     "input": [
      "%memit anhima.ped.diploid_mendelian_error(parents, progeny)"
     ],
     "language": "python",
     "metadata": {},
     "outputs": [
      {
       "output_type": "stream",
       "stream": "stdout",
       "text": [
        "peak memory: 193.02 MiB, increment: 31.57 MiB\n"
       ]
      }
     ],
     "prompt_number": 5
    },
    {
     "cell_type": "code",
     "collapsed": false,
     "input": [
      "cProfile.run('anhima.ped.diploid_mendelian_error(parents, progeny)', sort='time')"
     ],
     "language": "python",
     "metadata": {},
     "outputs": [
      {
       "output_type": "stream",
       "stream": "stdout",
       "text": [
        "         146 function calls in 0.449 seconds\n",
        "\n",
        "   Ordered by: internal time\n",
        "\n",
        "   ncalls  tottime  percall  cumtime  percall filename:lineno(function)\n",
        "        5    0.247    0.049    0.247    0.049 necompiler.py:662(evaluate)\n",
        "        2    0.115    0.058    0.216    0.108 gt.py:704(as_012)\n",
        "        2    0.041    0.021    0.041    0.021 {method 'reduce' of 'numpy.ufunc' objects}\n",
        "        2    0.034    0.017    0.034    0.017 gt.py:300(is_het)\n",
        "        1    0.010    0.010    0.010    0.010 {method 'astype' of 'numpy.ndarray' objects}\n",
        "        2    0.001    0.001    0.001    0.001 {method 'fill' of 'numpy.ndarray' objects}\n",
        "        1    0.001    0.001    0.449    0.449 ped.py:123(diploid_mendelian_error)\n",
        "        5    0.000    0.000    0.000    0.000 necompiler.py:462(getContext)\n",
        "       21    0.000    0.000    0.000    0.000 {numpy.core.multiarray.array}\n",
        "        2    0.000    0.000    0.036    0.018 gt.py:486(is_hom_alt)\n",
        "        2    0.000    0.000    0.029    0.015 gt.py:395(is_hom_ref)\n",
        "       21    0.000    0.000    0.000    0.000 numeric.py:392(asarray)\n",
        "        5    0.000    0.000    0.000    0.000 {sorted}\n",
        "        2    0.000    0.000    0.041    0.021 fromnumeric.py:2048(amax)\n",
        "       11    0.000    0.000    0.000    0.000 necompiler.py:611(getType)\n",
        "        1    0.000    0.000    0.449    0.449 <string>:1(<module>)\n",
        "        2    0.000    0.000    0.041    0.021 _methods.py:15(_amax)\n",
        "        2    0.000    0.000    0.000    0.000 {numpy.core.multiarray.empty}\n",
        "        5    0.000    0.000    0.000    0.000 {isinstance}\n",
        "       10    0.000    0.000    0.000    0.000 {sys._getframe}\n",
        "        5    0.000    0.000    0.000    0.000 {method 'items' of 'dict' objects}\n",
        "        5    0.000    0.000    0.000    0.000 {zip}\n",
        "        5    0.000    0.000    0.000    0.000 {method 'get' of 'dict' objects}\n",
        "        5    0.000    0.000    0.000    0.000 {method 'copy' of 'dict' objects}\n",
        "       10    0.000    0.000    0.000    0.000 {method 'pop' of 'dict' objects}\n",
        "       11    0.000    0.000    0.000    0.000 {method 'append' of 'list' objects}\n",
        "        1    0.000    0.000    0.000    0.000 {method 'disable' of '_lsprof.Profiler' objects}\n",
        "\n",
        "\n"
       ]
      }
     ],
     "prompt_number": 6
    },
    {
     "cell_type": "code",
     "collapsed": false,
     "input": [
      "me2 = anhima.ped.diploid_mendelian_error_multiallelic(parents, progeny)\n",
      "me2"
     ],
     "language": "python",
     "metadata": {},
     "outputs": [
      {
       "metadata": {},
       "output_type": "pyout",
       "prompt_number": 25,
       "text": [
        "array([[0, 1, 0, ..., 0, 0, 0],\n",
        "       [0, 1, 0, ..., 0, 0, 0],\n",
        "       [0, 0, 0, ..., 0, 0, 0],\n",
        "       ..., \n",
        "       [0, 0, 0, ..., 0, 0, 0],\n",
        "       [1, 1, 1, ..., 0, 1, 1],\n",
        "       [0, 0, 0, ..., 0, 0, 0]], dtype=uint8)"
       ]
      }
     ],
     "prompt_number": 25
    },
    {
     "cell_type": "code",
     "collapsed": false,
     "input": [
      "np.array_equal(me, me2)"
     ],
     "language": "python",
     "metadata": {},
     "outputs": [
      {
       "metadata": {},
       "output_type": "pyout",
       "prompt_number": 26,
       "text": [
        "True"
       ]
      }
     ],
     "prompt_number": 26
    },
    {
     "cell_type": "code",
     "collapsed": false,
     "input": [
      "%timeit anhima.ped.diploid_mendelian_error_multiallelic(parents, progeny)"
     ],
     "language": "python",
     "metadata": {},
     "outputs": [
      {
       "output_type": "stream",
       "stream": "stdout",
       "text": [
        "1 loops, best of 3: 1.62 s per loop\n"
       ]
      }
     ],
     "prompt_number": 27
    },
    {
     "cell_type": "code",
     "collapsed": false,
     "input": [
      "%memit anhima.ped.diploid_mendelian_error_multiallelic(parents, progeny)"
     ],
     "language": "python",
     "metadata": {},
     "outputs": [
      {
       "output_type": "stream",
       "stream": "stdout",
       "text": [
        "peak memory: 419.62 MiB, increment: 120.59 MiB\n"
       ]
      }
     ],
     "prompt_number": 28
    },
    {
     "cell_type": "code",
     "collapsed": false,
     "input": [
      "cProfile.run('anhima.ped.diploid_mendelian_error_multiallelic(parents, progeny)', sort='time')"
     ],
     "language": "python",
     "metadata": {},
     "outputs": [
      {
       "output_type": "stream",
       "stream": "stdout",
       "text": [
        "         97 function calls in 1.596 seconds\n",
        "\n",
        "   Ordered by: internal time\n",
        "\n",
        "   ncalls  tottime  percall  cumtime  percall filename:lineno(function)\n",
        "       12    0.982    0.082    0.982    0.082 {method 'reduce' of 'numpy.ufunc' objects}\n",
        "        1    0.489    0.489    1.596    1.596 ped.py:251(diploid_mendelian_error_multiallelic)\n",
        "        2    0.092    0.046    0.402    0.201 gt.py:763(as_allele_counts)\n",
        "        2    0.022    0.011    0.022    0.011 {method 'astype' of 'numpy.ndarray' objects}\n",
        "        1    0.008    0.008    0.008    0.008 necompiler.py:662(evaluate)\n",
        "        2    0.003    0.001    0.003    0.001 {numpy.core.multiarray.zeros}\n",
        "       11    0.000    0.000    0.000    0.000 {numpy.core.multiarray.array}\n",
        "        5    0.000    0.000    0.440    0.088 fromnumeric.py:1621(sum)\n",
        "        6    0.000    0.000    0.590    0.098 _methods.py:23(_sum)\n",
        "        1    0.000    0.000    0.008    0.008 gt.py:117(is_missing)\n",
        "        1    0.000    0.000    0.000    0.000 necompiler.py:462(getContext)\n",
        "        6    0.000    0.000    0.000    0.000 {isinstance}\n",
        "        2    0.000    0.000    0.323    0.161 fromnumeric.py:1842(all)\n",
        "        2    0.000    0.000    0.031    0.015 fromnumeric.py:1762(any)\n",
        "        4    0.000    0.000    0.000    0.000 numeric.py:462(asanyarray)\n",
        "        7    0.000    0.000    0.000    0.000 numeric.py:392(asarray)\n",
        "        1    0.000    0.000    1.596    1.596 <string>:1(<module>)\n",
        "        2    0.000    0.000    0.030    0.015 _methods.py:31(_any)\n",
        "        2    0.000    0.000    0.040    0.020 _methods.py:15(_amax)\n",
        "        2    0.000    0.000    0.040    0.020 fromnumeric.py:2048(amax)\n",
        "        2    0.000    0.000    0.323    0.161 _methods.py:35(_all)\n",
        "        2    0.000    0.000    0.323    0.161 {method 'all' of 'numpy.ndarray' objects}\n",
        "        2    0.000    0.000    0.031    0.015 {method 'any' of 'numpy.ndarray' objects}\n",
        "        1    0.000    0.000    0.149    0.149 {method 'sum' of 'numpy.ndarray' objects}\n",
        "        1    0.000    0.000    0.000    0.000 {sorted}\n",
        "        1    0.000    0.000    0.000    0.000 {max}\n",
        "        2    0.000    0.000    0.000    0.000 necompiler.py:611(getType)\n",
        "        1    0.000    0.000    0.000    0.000 {range}\n",
        "        1    0.000    0.000    0.000    0.000 {zip}\n",
        "        2    0.000    0.000    0.000    0.000 {sys._getframe}\n",
        "        1    0.000    0.000    0.000    0.000 {method 'get' of 'dict' objects}\n",
        "        1    0.000    0.000    0.000    0.000 {method 'items' of 'dict' objects}\n",
        "        1    0.000    0.000    0.000    0.000 {method 'disable' of '_lsprof.Profiler' objects}\n",
        "        2    0.000    0.000    0.000    0.000 {len}\n",
        "        1    0.000    0.000    0.000    0.000 {method 'copy' of 'dict' objects}\n",
        "        2    0.000    0.000    0.000    0.000 {method 'pop' of 'dict' objects}\n",
        "        2    0.000    0.000    0.000    0.000 {method 'append' of 'list' objects}\n",
        "\n",
        "\n"
       ]
      }
     ],
     "prompt_number": 29
    },
    {
     "cell_type": "code",
     "collapsed": false,
     "input": [],
     "language": "python",
     "metadata": {},
     "outputs": []
    }
   ],
   "metadata": {}
  }
 ]
}