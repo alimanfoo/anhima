{
 "metadata": {
  "name": "",
  "signature": "sha256:e2a38970ef711b61dfb02708ae38486186101bffab09f7beb3830dbc5fd2c1d2"
 },
 "nbformat": 3,
 "nbformat_minor": 0,
 "worksheets": [
  {
   "cells": [
    {
     "cell_type": "code",
     "collapsed": false,
     "input": [
      "from __future__ import print_function\n",
      "import numpy as np\n",
      "np.random.seed(1)\n",
      "import scipy.stats\n",
      "import sys\n",
      "import cProfile\n",
      "%reload_ext memory_profiler\n",
      "%reload_ext cythonmagic\n",
      "# dev imports\n",
      "import anhima.opt.ld\n",
      "sys.path.insert(0, '../src')\n",
      "%reload_ext autoreload\n",
      "%autoreload 1\n",
      "%aimport anhima.sim\n",
      "%aimport anhima.gt\n",
      "%aimport anhima.ld"
     ],
     "language": "python",
     "metadata": {},
     "outputs": [],
     "prompt_number": 1
    },
    {
     "cell_type": "code",
     "collapsed": false,
     "input": [
      "n_variants = 10000\n",
      "n_samples = 100\n",
      "gn = anhima.sim.simulate_genotypes_with_ld(n_variants, n_samples, correlation=.97).astype('u1')"
     ],
     "language": "python",
     "metadata": {},
     "outputs": [],
     "prompt_number": 2
    },
    {
     "cell_type": "code",
     "collapsed": false,
     "input": [
      "included2 = anhima.ld.ld_prune_pairwise(gn)\n",
      "np.count_nonzero(included2)"
     ],
     "language": "python",
     "metadata": {},
     "outputs": [
      {
       "metadata": {},
       "output_type": "pyout",
       "prompt_number": 3,
       "text": [
        "370"
       ]
      }
     ],
     "prompt_number": 3
    },
    {
     "cell_type": "code",
     "collapsed": false,
     "input": [
      "%timeit anhima.ld.ld_prune_pairwise(gn)"
     ],
     "language": "python",
     "metadata": {},
     "outputs": [
      {
       "output_type": "stream",
       "stream": "stdout",
       "text": [
        "10 loops, best of 3: 43.5 ms per loop\n"
       ]
      }
     ],
     "prompt_number": 4
    },
    {
     "cell_type": "code",
     "collapsed": false,
     "input": [
      "%memit anhima.ld.ld_prune_pairwise(gn)"
     ],
     "language": "python",
     "metadata": {},
     "outputs": [
      {
       "output_type": "stream",
       "stream": "stdout",
       "text": [
        "peak memory: 74.63 MiB, increment: 0.20 MiB\n"
       ]
      }
     ],
     "prompt_number": 5
    },
    {
     "cell_type": "code",
     "collapsed": false,
     "input": [
      "cProfile.run('anhima.ld.ld_prune_pairwise(gn)', sort='time')"
     ],
     "language": "python",
     "metadata": {},
     "outputs": [
      {
       "output_type": "stream",
       "stream": "stdout",
       "text": [
        "         34 function calls in 0.054 seconds\n",
        "\n",
        "   Ordered by: internal time\n",
        "\n",
        "   ncalls  tottime  percall  cumtime  percall filename:lineno(function)\n",
        "        1    0.053    0.053    0.054    0.054 {anhima.opt.ld.ld_prune_pairwise_uint8}\n",
        "        1    0.001    0.001    0.001    0.001 {numpy.core._dotblas.dot}\n",
        "        1    0.000    0.000    0.000    0.000 {method 'astype' of 'numpy.ndarray' objects}\n",
        "        1    0.000    0.000    0.001    0.001 function_base.py:1649(cov)\n",
        "        1    0.000    0.000    0.001    0.001 function_base.py:1769(corrcoef)\n",
        "        1    0.000    0.000    0.000    0.000 {method 'reduce' of 'numpy.ufunc' objects}\n",
        "        5    0.000    0.000    0.000    0.000 {numpy.core.multiarray.array}\n",
        "        1    0.000    0.000    0.000    0.000 _methods.py:49(_mean)\n",
        "        1    0.000    0.000    0.000    0.000 {method 'outer' of 'numpy.ufunc' objects}\n",
        "        1    0.000    0.000    0.054    0.054 ld.py:237(ld_prune_pairwise)\n",
        "        3    0.000    0.000    0.000    0.000 numeric.py:392(asarray)\n",
        "        1    0.000    0.000    0.000    0.000 {numpy.core.multiarray.copyto}\n",
        "        1    0.000    0.000    0.000    0.000 twodim_base.py:221(diag)\n",
        "        1    0.000    0.000    0.000    0.000 numeric.py:136(ones)\n",
        "        1    0.000    0.000    0.000    0.000 {numpy.core.multiarray.empty}\n",
        "        1    0.000    0.000    0.000    0.000 {method 'diagonal' of 'numpy.ndarray' objects}\n",
        "        1    0.000    0.000    0.054    0.054 <string>:1(<module>)\n",
        "        1    0.000    0.000    0.000    0.000 {method 'mean' of 'numpy.ndarray' objects}\n",
        "        1    0.000    0.000    0.000    0.000 _methods.py:39(_count_reduce_items)\n",
        "        2    0.000    0.000    0.000    0.000 {isinstance}\n",
        "        1    0.000    0.000    0.000    0.000 numeric.py:462(asanyarray)\n",
        "        1    0.000    0.000    0.000    0.000 {issubclass}\n",
        "        2    0.000    0.000    0.000    0.000 {len}\n",
        "        1    0.000    0.000    0.000    0.000 {method 'squeeze' of 'numpy.ndarray' objects}\n",
        "        1    0.000    0.000    0.000    0.000 {method 'conj' of 'numpy.ndarray' objects}\n",
        "        1    0.000    0.000    0.000    0.000 {method 'disable' of '_lsprof.Profiler' objects}\n",
        "\n",
        "\n"
       ]
      }
     ],
     "prompt_number": 6
    },
    {
     "cell_type": "code",
     "collapsed": false,
     "input": [],
     "language": "python",
     "metadata": {},
     "outputs": [],
     "prompt_number": 10
    }
   ],
   "metadata": {}
  }
 ]
}