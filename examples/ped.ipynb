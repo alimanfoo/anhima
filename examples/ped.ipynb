{
 "metadata": {
  "name": "",
  "signature": "sha256:3c4bbf7288c7b3da61df2fe56a22589fa7435522e1a10aadec2e8f9addfe1bee"
 },
 "nbformat": 3,
 "nbformat_minor": 0,
 "worksheets": [
  {
   "cells": [
    {
     "cell_type": "heading",
     "level": 1,
     "metadata": {},
     "source": [
      "``anhima.ped`` - Pedigrees"
     ]
    },
    {
     "cell_type": "code",
     "collapsed": false,
     "input": [
      "import numpy as np\n",
      "np.random.seed(1)\n",
      "import scipy.stats\n",
      "import itertools\n",
      "import random\n",
      "random.seed(42)\n",
      "import matplotlib.pyplot as plt\n",
      "%matplotlib inline\n",
      "import sys\n",
      "# import anhima\n",
      "# dev imports\n",
      "sys.path.insert(0, '..')\n",
      "%reload_ext autoreload\n",
      "%autoreload 1\n",
      "%aimport anhima.sim\n",
      "%aimport anhima.util\n",
      "%aimport anhima.gt\n",
      "%aimport anhima.ped"
     ],
     "language": "python",
     "metadata": {},
     "outputs": [],
     "prompt_number": 6
    },
    {
     "cell_type": "code",
     "collapsed": false,
     "input": [
      "# simulate parent diplotype\n",
      "n_variants = 1000\n",
      "p_alt = .5\n",
      "parent_diplotype_truth = scipy.stats.bernoulli.rvs(p_alt, size=1000*2).reshape(1000, 2)\n",
      "\n",
      "# introduce some missingness\n",
      "p_missing = .03\n",
      "n_missing = scipy.stats.binom(p=p_missing, n=n_variants).rvs()\n",
      "loc_missing = random.sample(range(n_variants), n_missing)\n",
      "parent_diplotype = parent_diplotype_truth.copy()\n",
      "parent_diplotype[loc_missing] = (-1, -1)\n",
      "\n",
      "parent_diplotype"
     ],
     "language": "python",
     "metadata": {},
     "outputs": [
      {
       "metadata": {},
       "output_type": "pyout",
       "prompt_number": 7,
       "text": [
        "array([[0, 1],\n",
        "       [0, 0],\n",
        "       [0, 0],\n",
        "       ..., \n",
        "       [1, 0],\n",
        "       [0, 1],\n",
        "       [0, 1]])"
       ]
      }
     ],
     "prompt_number": 7
    },
    {
     "cell_type": "code",
     "collapsed": false,
     "input": [
      "anhima.gt.count_called(parent_diplotype)"
     ],
     "language": "python",
     "metadata": {},
     "outputs": [
      {
       "metadata": {},
       "output_type": "pyout",
       "prompt_number": 8,
       "text": [
        "969"
       ]
      }
     ],
     "prompt_number": 8
    },
    {
     "cell_type": "code",
     "collapsed": false,
     "input": [
      "anhima.gt.count_hom_ref(parent_diplotype)"
     ],
     "language": "python",
     "metadata": {},
     "outputs": [
      {
       "metadata": {},
       "output_type": "pyout",
       "prompt_number": 9,
       "text": [
        "214"
       ]
      }
     ],
     "prompt_number": 9
    },
    {
     "cell_type": "code",
     "collapsed": false,
     "input": [
      "anhima.gt.count_het(parent_diplotype)"
     ],
     "language": "python",
     "metadata": {},
     "outputs": [
      {
       "metadata": {},
       "output_type": "pyout",
       "prompt_number": 10,
       "text": [
        "502"
       ]
      }
     ],
     "prompt_number": 10
    },
    {
     "cell_type": "code",
     "collapsed": false,
     "input": [
      "anhima.gt.count_hom_alt(parent_diplotype)"
     ],
     "language": "python",
     "metadata": {},
     "outputs": [
      {
       "metadata": {},
       "output_type": "pyout",
       "prompt_number": 11,
       "text": [
        "253"
       ]
      }
     ],
     "prompt_number": 11
    },
    {
     "cell_type": "code",
     "collapsed": false,
     "input": [
      "# simulate gamete haplotypes\n",
      "n_gametes = 20\n",
      "gamete_haplotypes = np.empty((n_variants, n_gametes), dtype='i1')\n",
      "n_crossovers = scipy.stats.poisson.rvs(.8, size=n_gametes)\n",
      "p_mendel_error = .03\n",
      "\n",
      "for i in range(n_gametes):\n",
      "    \n",
      "    # randomly choose which parent to start with\n",
      "    parent = scipy.stats.bernoulli(.5).rvs()\n",
      "    h = parent_diplotype_truth[:, parent].copy()\n",
      "    \n",
      "    # simulate crossovers\n",
      "    loc_switches = sorted(np.random.randint(0, n_variants, size=n_crossovers[i]))\n",
      "    for l in loc_switches:\n",
      "        parent = 0 if parent == 1 else 1\n",
      "        h[l:] = parent_diplotype_truth[l:, parent]\n",
      "        \n",
      "    # simulate errors\n",
      "    n_me = scipy.stats.binom(p=p_mendel_error, n=n_variants).rvs()\n",
      "    loc_me = random.sample(range(n_variants), n_me)\n",
      "    h[loc_me] = scipy.stats.bernoulli.rvs(.5, size=n_me)\n",
      "    \n",
      "    # simulate missingness\n",
      "    n_missing = scipy.stats.binom(p=p_missing, n=n_variants).rvs()\n",
      "    loc_missing = random.sample(range(n_variants), n_missing)\n",
      "    h[loc_missing] = -1\n",
      "    \n",
      "    gamete_haplotypes[:, i] = h\n",
      "    \n",
      "gamete_haplotypes"
     ],
     "language": "python",
     "metadata": {},
     "outputs": [
      {
       "metadata": {},
       "output_type": "pyout",
       "prompt_number": 12,
       "text": [
        "array([[ 0,  0,  0, ...,  1,  0,  1],\n",
        "       [ 0,  0,  0, ...,  0,  0,  0],\n",
        "       [ 0,  0,  0, ...,  0,  0,  0],\n",
        "       ..., \n",
        "       [ 1,  1,  1, ...,  1,  1, -1],\n",
        "       [ 0,  0,  0, ...,  0,  0,  0],\n",
        "       [ 0,  0,  0, ...,  0,  0,  0]], dtype=int8)"
       ]
      }
     ],
     "prompt_number": 12
    },
    {
     "cell_type": "heading",
     "level": 2,
     "metadata": {},
     "source": [
      "Diploid inheritance"
     ]
    },
    {
     "cell_type": "code",
     "collapsed": false,
     "input": [
      "inh = anhima.ped.diploid_inheritance(parent_diplotype, gamete_haplotypes)"
     ],
     "language": "python",
     "metadata": {},
     "outputs": [],
     "prompt_number": 13
    },
    {
     "cell_type": "code",
     "collapsed": false,
     "input": [
      "inh"
     ],
     "language": "python",
     "metadata": {},
     "outputs": [
      {
       "metadata": {},
       "output_type": "pyout",
       "prompt_number": 14,
       "text": [
        "array([[1, 1, 1, ..., 2, 1, 2],\n",
        "       [3, 3, 3, ..., 3, 3, 3],\n",
        "       [3, 3, 3, ..., 3, 3, 3],\n",
        "       ..., \n",
        "       [1, 1, 1, ..., 1, 1, 7],\n",
        "       [1, 1, 1, ..., 1, 1, 1],\n",
        "       [1, 1, 1, ..., 1, 1, 1]], dtype=uint8)"
       ]
      }
     ],
     "prompt_number": 14
    },
    {
     "cell_type": "code",
     "collapsed": false,
     "input": [
      "inheritance_colors = ['red',    # parent 1\n",
      "                      'blue',   # parent 2\n",
      "                      'green',  # parents both ref\n",
      "                      'orange', # parents both alt\n",
      "                      'black',  # non-parental\n",
      "                      'yellow', # parents missing\n",
      "                      'white']  # missing"
     ],
     "language": "python",
     "metadata": {},
     "outputs": [],
     "prompt_number": 15
    },
    {
     "cell_type": "code",
     "collapsed": false,
     "input": [
      "fig, ax = plt.subplots(figsize=(12, 8))\n",
      "anhima.gt.plot_discrete_calldata(inh, \n",
      "                                 colors=inheritance_colors,\n",
      "                                 states=range(1, 8),\n",
      "                                 ax=ax);   "
     ],
     "language": "python",
     "metadata": {},
     "outputs": [
      {
       "metadata": {},
       "output_type": "display_data",
       "png": "[encoded data removed]",
       "text": [
        "<matplotlib.figure.Figure at 0x7f916be879b0>"
       ]
      }
     ],
     "prompt_number": 16
    },
    {
     "cell_type": "code",
     "collapsed": false,
     "input": [
      "inh_seg = inh[anhima.gt.is_het(parent_diplotype), :]\n",
      "inh_seg.shape"
     ],
     "language": "python",
     "metadata": {},
     "outputs": [
      {
       "metadata": {},
       "output_type": "pyout",
       "prompt_number": 17,
       "text": [
        "(502, 20)"
       ]
      }
     ],
     "prompt_number": 17
    },
    {
     "cell_type": "code",
     "collapsed": false,
     "input": [
      "fig, ax = plt.subplots(figsize=(12, 8))\n",
      "anhima.gt.plot_discrete_calldata(inh_seg, \n",
      "                                 colors=inheritance_colors,\n",
      "                                 states=range(8),\n",
      "                                 ax=ax)\n",
      "ax.set_xticks(np.arange(0, inh_seg.shape[0], 50));   "
     ],
     "language": "python",
     "metadata": {},
     "outputs": [
      {
       "metadata": {},
       "output_type": "display_data",
       "png": "[encoded data removed]",
       "text": [
        "<matplotlib.figure.Figure at 0x7f916be162e8>"
       ]
      }
     ],
     "prompt_number": 18
    },
    {
     "cell_type": "heading",
     "level": 2,
     "metadata": {},
     "source": [
      "Impute inheritance"
     ]
    },
    {
     "cell_type": "code",
     "collapsed": false,
     "input": [
      "# simulate random variant positions\n",
      "pos = np.asarray(random.sample(range(100000), inh_seg.shape[0]))\n",
      "pos.sort()"
     ],
     "language": "python",
     "metadata": {},
     "outputs": [],
     "prompt_number": 19
    },
    {
     "cell_type": "code",
     "collapsed": false,
     "input": [
      "pos_impute = [0] + random.sample(range(100000), 100) + [200000]\n",
      "pos_impute = np.array(pos_impute)\n",
      "pos_impute.sort()\n",
      "pos_impute"
     ],
     "language": "python",
     "metadata": {},
     "outputs": [
      {
       "metadata": {},
       "output_type": "pyout",
       "prompt_number": 20,
       "text": [
        "array([     0,    371,   1947,   2068,   2799,   3379,   4082,   4288,\n",
        "         5683,   6629,   6868,   7936,   8330,   8992,  12015,  12978,\n",
        "        13022,  14293,  14408,  14896,  16011,  16505,  16614,  17038,\n",
        "        17275,  18964,  19340,  20253,  22838,  22871,  24878,  26896,\n",
        "        27152,  27801,  28305,  28477,  29038,  30539,  30947,  31186,\n",
        "        31925,  32853,  34782,  36160,  36342,  36666,  39535,  42437,\n",
        "        43064,  43713,  46955,  47012,  47453,  47537,  48147,  48566,\n",
        "        52184,  53492,  54379,  54935,  55176,  58115,  58287,  58756,\n",
        "        59245,  59600,  60036,  62422,  64139,  66039,  67271,  68347,\n",
        "        68955,  70804,  70807,  71364,  72641,  74000,  76858,  76983,\n",
        "        77182,  77812,  78116,  78269,  80623,  80694,  83819,  84109,\n",
        "        84323,  84518,  85841,  86363,  86646,  86870,  89873,  90476,\n",
        "        95236,  95321,  97218,  97290,  97735, 200000])"
       ]
      }
     ],
     "prompt_number": 20
    },
    {
     "cell_type": "code",
     "collapsed": false,
     "input": [
      "inh_imputed = anhima.ped.impute_inheritance_nearest(inh_seg, pos, pos_impute)"
     ],
     "language": "python",
     "metadata": {},
     "outputs": [],
     "prompt_number": 21
    },
    {
     "cell_type": "code",
     "collapsed": false,
     "input": [
      "fig, ax = plt.subplots(figsize=(12, 8))\n",
      "anhima.gt.plot_discrete_calldata(inh_imputed, \n",
      "                                 colors=inheritance_colors,\n",
      "                                 states=range(8),\n",
      "                                 ax=ax);   "
     ],
     "language": "python",
     "metadata": {},
     "outputs": [
      {
       "metadata": {},
       "output_type": "display_data",
       "png": "[encoded data removed]",
       "text": [
        "<matplotlib.figure.Figure at 0x7f916be167f0>"
       ]
      }
     ],
     "prompt_number": 22
    },
    {
     "cell_type": "heading",
     "level": 2,
     "metadata": {},
     "source": [
      "Inheritance switches and blocks"
     ]
    },
    {
     "cell_type": "code",
     "collapsed": false,
     "input": [
      "# consider first gamete only\n",
      "x = inh_seg[:, 0]\n",
      "fig, ax = plt.subplots(figsize=(14, 1))\n",
      "anhima.gt.plot_discrete_calldata(x[:, None], \n",
      "                                 colors=inheritance_colors,\n",
      "                                 states=range(8),\n",
      "                                 ax=ax)\n",
      "ax.set_xticks(np.arange(0, x.size, 50));"
     ],
     "language": "python",
     "metadata": {},
     "outputs": [
      {
       "metadata": {},
       "output_type": "display_data",
       "png": "[encoded data removed]",
       "text": [
        "<matplotlib.figure.Figure at 0x7f916b596c88>"
       ]
      }
     ],
     "prompt_number": 23
    },
    {
     "cell_type": "code",
     "collapsed": false,
     "input": [
      "states = anhima.ped.INHERIT_PARENT1, anhima.ped.INHERIT_PARENT2\n",
      "df_switches = anhima.util.tabulate_state_transitions(x, states, pos)\n",
      "df_switches.head()"
     ],
     "language": "python",
     "metadata": {},
     "outputs": [
      {
       "html": [
        "<div style=\"max-height:1000px;max-width:1500px;overflow:auto;\">\n",
        "<table border=\"1\" class=\"dataframe\">\n",
        "  <thead>\n",
        "    <tr style=\"text-align: right;\">\n",
        "      <th></th>\n",
        "      <th>lidx</th>\n",
        "      <th>ridx</th>\n",
        "      <th>lpos</th>\n",
        "      <th>rpos</th>\n",
        "      <th>lval</th>\n",
        "      <th>rval</th>\n",
        "    </tr>\n",
        "  </thead>\n",
        "  <tbody>\n",
        "    <tr>\n",
        "      <th>0</th>\n",
        "      <td>  2</td>\n",
        "      <td>  3</td>\n",
        "      <td>   350</td>\n",
        "      <td>  1061</td>\n",
        "      <td> 1</td>\n",
        "      <td> 2</td>\n",
        "    </tr>\n",
        "    <tr>\n",
        "      <th>1</th>\n",
        "      <td>  3</td>\n",
        "      <td>  4</td>\n",
        "      <td>  1061</td>\n",
        "      <td>  1231</td>\n",
        "      <td> 2</td>\n",
        "      <td> 1</td>\n",
        "    </tr>\n",
        "    <tr>\n",
        "      <th>2</th>\n",
        "      <td> 56</td>\n",
        "      <td> 57</td>\n",
        "      <td> 12735</td>\n",
        "      <td> 12739</td>\n",
        "      <td> 1</td>\n",
        "      <td> 2</td>\n",
        "    </tr>\n",
        "    <tr>\n",
        "      <th>3</th>\n",
        "      <td> 72</td>\n",
        "      <td> 73</td>\n",
        "      <td> 15292</td>\n",
        "      <td> 15396</td>\n",
        "      <td> 2</td>\n",
        "      <td> 1</td>\n",
        "    </tr>\n",
        "    <tr>\n",
        "      <th>4</th>\n",
        "      <td> 73</td>\n",
        "      <td> 74</td>\n",
        "      <td> 15396</td>\n",
        "      <td> 15525</td>\n",
        "      <td> 1</td>\n",
        "      <td> 2</td>\n",
        "    </tr>\n",
        "  </tbody>\n",
        "</table>\n",
        "</div>"
       ],
       "metadata": {},
       "output_type": "pyout",
       "prompt_number": 24,
       "text": [
        "   lidx  ridx   lpos   rpos  lval  rval\n",
        "0     2     3    350   1061     1     2\n",
        "1     3     4   1061   1231     2     1\n",
        "2    56    57  12735  12739     1     2\n",
        "3    72    73  15292  15396     2     1\n",
        "4    73    74  15396  15525     1     2"
       ]
      }
     ],
     "prompt_number": 24
    },
    {
     "cell_type": "code",
     "collapsed": false,
     "input": [
      "df_switches.tail()"
     ],
     "language": "python",
     "metadata": {},
     "outputs": [
      {
       "html": [
        "<div style=\"max-height:1000px;max-width:1500px;overflow:auto;\">\n",
        "<table border=\"1\" class=\"dataframe\">\n",
        "  <thead>\n",
        "    <tr style=\"text-align: right;\">\n",
        "      <th></th>\n",
        "      <th>lidx</th>\n",
        "      <th>ridx</th>\n",
        "      <th>lpos</th>\n",
        "      <th>rpos</th>\n",
        "      <th>lval</th>\n",
        "      <th>rval</th>\n",
        "    </tr>\n",
        "  </thead>\n",
        "  <tbody>\n",
        "    <tr>\n",
        "      <th>19</th>\n",
        "      <td> 409</td>\n",
        "      <td> 410</td>\n",
        "      <td> 82578</td>\n",
        "      <td> 82727</td>\n",
        "      <td> 2</td>\n",
        "      <td> 1</td>\n",
        "    </tr>\n",
        "    <tr>\n",
        "      <th>20</th>\n",
        "      <td> 429</td>\n",
        "      <td> 430</td>\n",
        "      <td> 86400</td>\n",
        "      <td> 86499</td>\n",
        "      <td> 1</td>\n",
        "      <td> 2</td>\n",
        "    </tr>\n",
        "    <tr>\n",
        "      <th>21</th>\n",
        "      <td> 430</td>\n",
        "      <td> 431</td>\n",
        "      <td> 86499</td>\n",
        "      <td> 86563</td>\n",
        "      <td> 2</td>\n",
        "      <td> 1</td>\n",
        "    </tr>\n",
        "    <tr>\n",
        "      <th>22</th>\n",
        "      <td> 474</td>\n",
        "      <td> 475</td>\n",
        "      <td> 94203</td>\n",
        "      <td> 94493</td>\n",
        "      <td> 1</td>\n",
        "      <td> 2</td>\n",
        "    </tr>\n",
        "    <tr>\n",
        "      <th>23</th>\n",
        "      <td> 475</td>\n",
        "      <td> 476</td>\n",
        "      <td> 94493</td>\n",
        "      <td> 94692</td>\n",
        "      <td> 2</td>\n",
        "      <td> 1</td>\n",
        "    </tr>\n",
        "  </tbody>\n",
        "</table>\n",
        "</div>"
       ],
       "metadata": {},
       "output_type": "pyout",
       "prompt_number": 25,
       "text": [
        "    lidx  ridx   lpos   rpos  lval  rval\n",
        "19   409   410  82578  82727     2     1\n",
        "20   429   430  86400  86499     1     2\n",
        "21   430   431  86499  86563     2     1\n",
        "22   474   475  94203  94493     1     2\n",
        "23   475   476  94493  94692     2     1"
       ]
      }
     ],
     "prompt_number": 25
    },
    {
     "cell_type": "code",
     "collapsed": false,
     "input": [
      "df_blocks = anhima.util.tabulate_state_blocks(x, states, pos)\n",
      "df_blocks.head()"
     ],
     "language": "python",
     "metadata": {},
     "outputs": [
      {
       "html": [
        "<div style=\"max-height:1000px;max-width:1500px;overflow:auto;\">\n",
        "<table border=\"1\" class=\"dataframe\">\n",
        "  <thead>\n",
        "    <tr style=\"text-align: right;\">\n",
        "      <th></th>\n",
        "      <th>start_min_idx</th>\n",
        "      <th>start_max_idx</th>\n",
        "      <th>stop_min_idx</th>\n",
        "      <th>stop_max_idx</th>\n",
        "      <th>start_min_pos</th>\n",
        "      <th>start_max_pos</th>\n",
        "      <th>stop_min_pos</th>\n",
        "      <th>stop_max_pos</th>\n",
        "      <th>state</th>\n",
        "      <th>support</th>\n",
        "      <th>size_min</th>\n",
        "      <th>size_max</th>\n",
        "      <th>length_min</th>\n",
        "      <th>length_max</th>\n",
        "      <th>is_marginal</th>\n",
        "    </tr>\n",
        "  </thead>\n",
        "  <tbody>\n",
        "    <tr>\n",
        "      <th>0</th>\n",
        "      <td>  0</td>\n",
        "      <td>  0</td>\n",
        "      <td>  2</td>\n",
        "      <td>  3</td>\n",
        "      <td>   150</td>\n",
        "      <td>   150</td>\n",
        "      <td>   350</td>\n",
        "      <td>  1061</td>\n",
        "      <td> 1</td>\n",
        "      <td>  3</td>\n",
        "      <td>  2</td>\n",
        "      <td>  2</td>\n",
        "      <td>   200</td>\n",
        "      <td>   911</td>\n",
        "      <td>  True</td>\n",
        "    </tr>\n",
        "    <tr>\n",
        "      <th>1</th>\n",
        "      <td>  2</td>\n",
        "      <td>  3</td>\n",
        "      <td>  3</td>\n",
        "      <td>  4</td>\n",
        "      <td>   350</td>\n",
        "      <td>  1061</td>\n",
        "      <td>  1061</td>\n",
        "      <td>  1231</td>\n",
        "      <td> 2</td>\n",
        "      <td>  1</td>\n",
        "      <td>  1</td>\n",
        "      <td>  1</td>\n",
        "      <td>     0</td>\n",
        "      <td>   881</td>\n",
        "      <td> False</td>\n",
        "    </tr>\n",
        "    <tr>\n",
        "      <th>2</th>\n",
        "      <td>  3</td>\n",
        "      <td>  4</td>\n",
        "      <td> 56</td>\n",
        "      <td> 57</td>\n",
        "      <td>  1061</td>\n",
        "      <td>  1231</td>\n",
        "      <td> 12735</td>\n",
        "      <td> 12739</td>\n",
        "      <td> 1</td>\n",
        "      <td> 52</td>\n",
        "      <td> 53</td>\n",
        "      <td> 53</td>\n",
        "      <td> 11504</td>\n",
        "      <td> 11678</td>\n",
        "      <td> False</td>\n",
        "    </tr>\n",
        "    <tr>\n",
        "      <th>3</th>\n",
        "      <td> 56</td>\n",
        "      <td> 57</td>\n",
        "      <td> 72</td>\n",
        "      <td> 73</td>\n",
        "      <td> 12735</td>\n",
        "      <td> 12739</td>\n",
        "      <td> 15292</td>\n",
        "      <td> 15396</td>\n",
        "      <td> 2</td>\n",
        "      <td> 16</td>\n",
        "      <td> 16</td>\n",
        "      <td> 16</td>\n",
        "      <td>  2553</td>\n",
        "      <td>  2661</td>\n",
        "      <td> False</td>\n",
        "    </tr>\n",
        "    <tr>\n",
        "      <th>4</th>\n",
        "      <td> 72</td>\n",
        "      <td> 73</td>\n",
        "      <td> 73</td>\n",
        "      <td> 74</td>\n",
        "      <td> 15292</td>\n",
        "      <td> 15396</td>\n",
        "      <td> 15396</td>\n",
        "      <td> 15525</td>\n",
        "      <td> 1</td>\n",
        "      <td>  1</td>\n",
        "      <td>  1</td>\n",
        "      <td>  1</td>\n",
        "      <td>     0</td>\n",
        "      <td>   233</td>\n",
        "      <td> False</td>\n",
        "    </tr>\n",
        "  </tbody>\n",
        "</table>\n",
        "</div>"
       ],
       "metadata": {},
       "output_type": "pyout",
       "prompt_number": 26,
       "text": [
        "   start_min_idx  start_max_idx  stop_min_idx  stop_max_idx  start_min_pos  \\\n",
        "0              0              0             2             3            150   \n",
        "1              2              3             3             4            350   \n",
        "2              3              4            56            57           1061   \n",
        "3             56             57            72            73          12735   \n",
        "4             72             73            73            74          15292   \n",
        "\n",
        "   start_max_pos  stop_min_pos  stop_max_pos  state  support  size_min  \\\n",
        "0            150           350          1061      1        3         2   \n",
        "1           1061          1061          1231      2        1         1   \n",
        "2           1231         12735         12739      1       52        53   \n",
        "3          12739         15292         15396      2       16        16   \n",
        "4          15396         15396         15525      1        1         1   \n",
        "\n",
        "   size_max  length_min  length_max is_marginal  \n",
        "0         2         200         911        True  \n",
        "1         1           0         881       False  \n",
        "2        53       11504       11678       False  \n",
        "3        16        2553        2661       False  \n",
        "4         1           0         233       False  "
       ]
      }
     ],
     "prompt_number": 26
    },
    {
     "cell_type": "code",
     "collapsed": false,
     "input": [
      "df_blocks.tail()"
     ],
     "language": "python",
     "metadata": {},
     "outputs": [
      {
       "html": [
        "<div style=\"max-height:1000px;max-width:1500px;overflow:auto;\">\n",
        "<table border=\"1\" class=\"dataframe\">\n",
        "  <thead>\n",
        "    <tr style=\"text-align: right;\">\n",
        "      <th></th>\n",
        "      <th>start_min_idx</th>\n",
        "      <th>start_max_idx</th>\n",
        "      <th>stop_min_idx</th>\n",
        "      <th>stop_max_idx</th>\n",
        "      <th>start_min_pos</th>\n",
        "      <th>start_max_pos</th>\n",
        "      <th>stop_min_pos</th>\n",
        "      <th>stop_max_pos</th>\n",
        "      <th>state</th>\n",
        "      <th>support</th>\n",
        "      <th>size_min</th>\n",
        "      <th>size_max</th>\n",
        "      <th>length_min</th>\n",
        "      <th>length_max</th>\n",
        "      <th>is_marginal</th>\n",
        "    </tr>\n",
        "  </thead>\n",
        "  <tbody>\n",
        "    <tr>\n",
        "      <th>20</th>\n",
        "      <td> 409</td>\n",
        "      <td> 410</td>\n",
        "      <td> 429</td>\n",
        "      <td> 430</td>\n",
        "      <td> 82578</td>\n",
        "      <td> 82727</td>\n",
        "      <td> 86400</td>\n",
        "      <td> 86499</td>\n",
        "      <td> 1</td>\n",
        "      <td> 19</td>\n",
        "      <td> 20</td>\n",
        "      <td> 20</td>\n",
        "      <td> 3673</td>\n",
        "      <td> 3921</td>\n",
        "      <td> False</td>\n",
        "    </tr>\n",
        "    <tr>\n",
        "      <th>21</th>\n",
        "      <td> 429</td>\n",
        "      <td> 430</td>\n",
        "      <td> 430</td>\n",
        "      <td> 431</td>\n",
        "      <td> 86400</td>\n",
        "      <td> 86499</td>\n",
        "      <td> 86499</td>\n",
        "      <td> 86563</td>\n",
        "      <td> 2</td>\n",
        "      <td>  1</td>\n",
        "      <td>  1</td>\n",
        "      <td>  1</td>\n",
        "      <td>    0</td>\n",
        "      <td>  163</td>\n",
        "      <td> False</td>\n",
        "    </tr>\n",
        "    <tr>\n",
        "      <th>22</th>\n",
        "      <td> 430</td>\n",
        "      <td> 431</td>\n",
        "      <td> 474</td>\n",
        "      <td> 475</td>\n",
        "      <td> 86499</td>\n",
        "      <td> 86563</td>\n",
        "      <td> 94203</td>\n",
        "      <td> 94493</td>\n",
        "      <td> 1</td>\n",
        "      <td> 42</td>\n",
        "      <td> 44</td>\n",
        "      <td> 44</td>\n",
        "      <td> 7640</td>\n",
        "      <td> 7994</td>\n",
        "      <td> False</td>\n",
        "    </tr>\n",
        "    <tr>\n",
        "      <th>23</th>\n",
        "      <td> 474</td>\n",
        "      <td> 475</td>\n",
        "      <td> 475</td>\n",
        "      <td> 476</td>\n",
        "      <td> 94203</td>\n",
        "      <td> 94493</td>\n",
        "      <td> 94493</td>\n",
        "      <td> 94692</td>\n",
        "      <td> 2</td>\n",
        "      <td>  1</td>\n",
        "      <td>  1</td>\n",
        "      <td>  1</td>\n",
        "      <td>    0</td>\n",
        "      <td>  489</td>\n",
        "      <td> False</td>\n",
        "    </tr>\n",
        "    <tr>\n",
        "      <th>24</th>\n",
        "      <td> 475</td>\n",
        "      <td> 476</td>\n",
        "      <td> 501</td>\n",
        "      <td> 501</td>\n",
        "      <td> 94493</td>\n",
        "      <td> 94692</td>\n",
        "      <td> 99991</td>\n",
        "      <td> 99991</td>\n",
        "      <td> 1</td>\n",
        "      <td> 26</td>\n",
        "      <td> 26</td>\n",
        "      <td> 26</td>\n",
        "      <td> 5299</td>\n",
        "      <td> 5498</td>\n",
        "      <td>  True</td>\n",
        "    </tr>\n",
        "  </tbody>\n",
        "</table>\n",
        "</div>"
       ],
       "metadata": {},
       "output_type": "pyout",
       "prompt_number": 27,
       "text": [
        "    start_min_idx  start_max_idx  stop_min_idx  stop_max_idx  start_min_pos  \\\n",
        "20            409            410           429           430          82578   \n",
        "21            429            430           430           431          86400   \n",
        "22            430            431           474           475          86499   \n",
        "23            474            475           475           476          94203   \n",
        "24            475            476           501           501          94493   \n",
        "\n",
        "    start_max_pos  stop_min_pos  stop_max_pos  state  support  size_min  \\\n",
        "20          82727         86400         86499      1       19        20   \n",
        "21          86499         86499         86563      2        1         1   \n",
        "22          86563         94203         94493      1       42        44   \n",
        "23          94493         94493         94692      2        1         1   \n",
        "24          94692         99991         99991      1       26        26   \n",
        "\n",
        "    size_max  length_min  length_max is_marginal  \n",
        "20        20        3673        3921       False  \n",
        "21         1           0         163       False  \n",
        "22        44        7640        7994       False  \n",
        "23         1           0         489       False  \n",
        "24        26        5299        5498        True  "
       ]
      }
     ],
     "prompt_number": 27
    },
    {
     "cell_type": "code",
     "collapsed": false,
     "input": [
      "df_all_switches = anhima.ped.tabulate_inheritance_switches(inh_seg, pos)\n",
      "df_all_switches.head()"
     ],
     "language": "python",
     "metadata": {},
     "outputs": [
      {
       "html": [
        "<div style=\"max-height:1000px;max-width:1500px;overflow:auto;\">\n",
        "<table border=\"1\" class=\"dataframe\">\n",
        "  <thead>\n",
        "    <tr style=\"text-align: right;\">\n",
        "      <th></th>\n",
        "      <th></th>\n",
        "      <th>lidx</th>\n",
        "      <th>ridx</th>\n",
        "      <th>lpos</th>\n",
        "      <th>rpos</th>\n",
        "      <th>lval</th>\n",
        "      <th>rval</th>\n",
        "    </tr>\n",
        "  </thead>\n",
        "  <tbody>\n",
        "    <tr>\n",
        "      <th rowspan=\"5\" valign=\"top\">0</th>\n",
        "      <th>0</th>\n",
        "      <td>  2</td>\n",
        "      <td>  3</td>\n",
        "      <td>   350</td>\n",
        "      <td>  1061</td>\n",
        "      <td> 1</td>\n",
        "      <td> 2</td>\n",
        "    </tr>\n",
        "    <tr>\n",
        "      <th>1</th>\n",
        "      <td>  3</td>\n",
        "      <td>  4</td>\n",
        "      <td>  1061</td>\n",
        "      <td>  1231</td>\n",
        "      <td> 2</td>\n",
        "      <td> 1</td>\n",
        "    </tr>\n",
        "    <tr>\n",
        "      <th>2</th>\n",
        "      <td> 56</td>\n",
        "      <td> 57</td>\n",
        "      <td> 12735</td>\n",
        "      <td> 12739</td>\n",
        "      <td> 1</td>\n",
        "      <td> 2</td>\n",
        "    </tr>\n",
        "    <tr>\n",
        "      <th>3</th>\n",
        "      <td> 72</td>\n",
        "      <td> 73</td>\n",
        "      <td> 15292</td>\n",
        "      <td> 15396</td>\n",
        "      <td> 2</td>\n",
        "      <td> 1</td>\n",
        "    </tr>\n",
        "    <tr>\n",
        "      <th>4</th>\n",
        "      <td> 73</td>\n",
        "      <td> 74</td>\n",
        "      <td> 15396</td>\n",
        "      <td> 15525</td>\n",
        "      <td> 1</td>\n",
        "      <td> 2</td>\n",
        "    </tr>\n",
        "  </tbody>\n",
        "</table>\n",
        "</div>"
       ],
       "metadata": {},
       "output_type": "pyout",
       "prompt_number": 28,
       "text": [
        "     lidx  ridx   lpos   rpos  lval  rval\n",
        "0 0     2     3    350   1061     1     2\n",
        "  1     3     4   1061   1231     2     1\n",
        "  2    56    57  12735  12739     1     2\n",
        "  3    72    73  15292  15396     2     1\n",
        "  4    73    74  15396  15525     1     2"
       ]
      }
     ],
     "prompt_number": 28
    },
    {
     "cell_type": "code",
     "collapsed": false,
     "input": [
      "df_switches.equals(df_all_switches.loc[0])"
     ],
     "language": "python",
     "metadata": {},
     "outputs": [
      {
       "metadata": {},
       "output_type": "pyout",
       "prompt_number": 29,
       "text": [
        "True"
       ]
      }
     ],
     "prompt_number": 29
    },
    {
     "cell_type": "code",
     "collapsed": false,
     "input": [
      "df_all_blocks = anhima.ped.tabulate_inheritance_blocks(inh_seg, pos)\n",
      "df_all_blocks.head()"
     ],
     "language": "python",
     "metadata": {},
     "outputs": [
      {
       "html": [
        "<div style=\"max-height:1000px;max-width:1500px;overflow:auto;\">\n",
        "<table border=\"1\" class=\"dataframe\">\n",
        "  <thead>\n",
        "    <tr style=\"text-align: right;\">\n",
        "      <th></th>\n",
        "      <th></th>\n",
        "      <th>start_min_idx</th>\n",
        "      <th>start_max_idx</th>\n",
        "      <th>stop_min_idx</th>\n",
        "      <th>stop_max_idx</th>\n",
        "      <th>start_min_pos</th>\n",
        "      <th>start_max_pos</th>\n",
        "      <th>stop_min_pos</th>\n",
        "      <th>stop_max_pos</th>\n",
        "      <th>state</th>\n",
        "      <th>support</th>\n",
        "      <th>size_min</th>\n",
        "      <th>size_max</th>\n",
        "      <th>length_min</th>\n",
        "      <th>length_max</th>\n",
        "      <th>is_marginal</th>\n",
        "    </tr>\n",
        "  </thead>\n",
        "  <tbody>\n",
        "    <tr>\n",
        "      <th rowspan=\"5\" valign=\"top\">0</th>\n",
        "      <th>0</th>\n",
        "      <td>  0</td>\n",
        "      <td>  0</td>\n",
        "      <td>  2</td>\n",
        "      <td>  3</td>\n",
        "      <td>   150</td>\n",
        "      <td>   150</td>\n",
        "      <td>   350</td>\n",
        "      <td>  1061</td>\n",
        "      <td> 1</td>\n",
        "      <td>  3</td>\n",
        "      <td>  2</td>\n",
        "      <td>  2</td>\n",
        "      <td>   200</td>\n",
        "      <td>   911</td>\n",
        "      <td>  True</td>\n",
        "    </tr>\n",
        "    <tr>\n",
        "      <th>1</th>\n",
        "      <td>  2</td>\n",
        "      <td>  3</td>\n",
        "      <td>  3</td>\n",
        "      <td>  4</td>\n",
        "      <td>   350</td>\n",
        "      <td>  1061</td>\n",
        "      <td>  1061</td>\n",
        "      <td>  1231</td>\n",
        "      <td> 2</td>\n",
        "      <td>  1</td>\n",
        "      <td>  1</td>\n",
        "      <td>  1</td>\n",
        "      <td>     0</td>\n",
        "      <td>   881</td>\n",
        "      <td> False</td>\n",
        "    </tr>\n",
        "    <tr>\n",
        "      <th>2</th>\n",
        "      <td>  3</td>\n",
        "      <td>  4</td>\n",
        "      <td> 56</td>\n",
        "      <td> 57</td>\n",
        "      <td>  1061</td>\n",
        "      <td>  1231</td>\n",
        "      <td> 12735</td>\n",
        "      <td> 12739</td>\n",
        "      <td> 1</td>\n",
        "      <td> 52</td>\n",
        "      <td> 53</td>\n",
        "      <td> 53</td>\n",
        "      <td> 11504</td>\n",
        "      <td> 11678</td>\n",
        "      <td> False</td>\n",
        "    </tr>\n",
        "    <tr>\n",
        "      <th>3</th>\n",
        "      <td> 56</td>\n",
        "      <td> 57</td>\n",
        "      <td> 72</td>\n",
        "      <td> 73</td>\n",
        "      <td> 12735</td>\n",
        "      <td> 12739</td>\n",
        "      <td> 15292</td>\n",
        "      <td> 15396</td>\n",
        "      <td> 2</td>\n",
        "      <td> 16</td>\n",
        "      <td> 16</td>\n",
        "      <td> 16</td>\n",
        "      <td>  2553</td>\n",
        "      <td>  2661</td>\n",
        "      <td> False</td>\n",
        "    </tr>\n",
        "    <tr>\n",
        "      <th>4</th>\n",
        "      <td> 72</td>\n",
        "      <td> 73</td>\n",
        "      <td> 73</td>\n",
        "      <td> 74</td>\n",
        "      <td> 15292</td>\n",
        "      <td> 15396</td>\n",
        "      <td> 15396</td>\n",
        "      <td> 15525</td>\n",
        "      <td> 1</td>\n",
        "      <td>  1</td>\n",
        "      <td>  1</td>\n",
        "      <td>  1</td>\n",
        "      <td>     0</td>\n",
        "      <td>   233</td>\n",
        "      <td> False</td>\n",
        "    </tr>\n",
        "  </tbody>\n",
        "</table>\n",
        "</div>"
       ],
       "metadata": {},
       "output_type": "pyout",
       "prompt_number": 30,
       "text": [
        "     start_min_idx  start_max_idx  stop_min_idx  stop_max_idx  start_min_pos  \\\n",
        "0 0              0              0             2             3            150   \n",
        "  1              2              3             3             4            350   \n",
        "  2              3              4            56            57           1061   \n",
        "  3             56             57            72            73          12735   \n",
        "  4             72             73            73            74          15292   \n",
        "\n",
        "     start_max_pos  stop_min_pos  stop_max_pos  state  support  size_min  \\\n",
        "0 0            150           350          1061      1        3         2   \n",
        "  1           1061          1061          1231      2        1         1   \n",
        "  2           1231         12735         12739      1       52        53   \n",
        "  3          12739         15292         15396      2       16        16   \n",
        "  4          15396         15396         15525      1        1         1   \n",
        "\n",
        "     size_max  length_min  length_max is_marginal  \n",
        "0 0         2         200         911        True  \n",
        "  1         1           0         881       False  \n",
        "  2        53       11504       11678       False  \n",
        "  3        16        2553        2661       False  \n",
        "  4         1           0         233       False  "
       ]
      }
     ],
     "prompt_number": 30
    },
    {
     "cell_type": "code",
     "collapsed": false,
     "input": [
      "df_blocks.equals(df_all_blocks.loc[0])"
     ],
     "language": "python",
     "metadata": {},
     "outputs": [
      {
       "metadata": {},
       "output_type": "pyout",
       "prompt_number": 31,
       "text": [
        "True"
       ]
      }
     ],
     "prompt_number": 31
    },
    {
     "cell_type": "code",
     "collapsed": false,
     "input": [
      "block_support, block_length_min = anhima.ped.inheritance_block_masks(inh_seg, pos)"
     ],
     "language": "python",
     "metadata": {},
     "outputs": [],
     "prompt_number": 32
    },
    {
     "cell_type": "code",
     "collapsed": false,
     "input": [
      "# filter using block support\n",
      "inh_seg_flt = inh_seg.copy()\n",
      "inh_seg_flt[block_support < 2] = anhima.ped.INHERIT_MISSING\n",
      "fig, ax = plt.subplots(figsize=(12, 8))\n",
      "anhima.gt.plot_discrete_calldata(inh_seg_flt, \n",
      "                                 colors=inheritance_colors,\n",
      "                                 states=range(8),\n",
      "                                 ax=ax)\n",
      "ax.set_xticks(np.arange(0, inh_seg.shape[0], 50));   "
     ],
     "language": "python",
     "metadata": {},
     "outputs": [
      {
       "metadata": {},
       "output_type": "display_data",
       "png": "[encoded data removed]",
       "text": [
        "<matplotlib.figure.Figure at 0x7f916b50a470>"
       ]
      }
     ],
     "prompt_number": 33
    },
    {
     "cell_type": "code",
     "collapsed": false,
     "input": [
      "anhima.util.tabulate_state_blocks(inh_seg_flt[:, 0], states, pos)"
     ],
     "language": "python",
     "metadata": {},
     "outputs": [
      {
       "html": [
        "<div style=\"max-height:1000px;max-width:1500px;overflow:auto;\">\n",
        "<table border=\"1\" class=\"dataframe\">\n",
        "  <thead>\n",
        "    <tr style=\"text-align: right;\">\n",
        "      <th></th>\n",
        "      <th>start_min_idx</th>\n",
        "      <th>start_max_idx</th>\n",
        "      <th>stop_min_idx</th>\n",
        "      <th>stop_max_idx</th>\n",
        "      <th>start_min_pos</th>\n",
        "      <th>start_max_pos</th>\n",
        "      <th>stop_min_pos</th>\n",
        "      <th>stop_max_pos</th>\n",
        "      <th>state</th>\n",
        "      <th>support</th>\n",
        "      <th>size_min</th>\n",
        "      <th>size_max</th>\n",
        "      <th>length_min</th>\n",
        "      <th>length_max</th>\n",
        "      <th>is_marginal</th>\n",
        "    </tr>\n",
        "  </thead>\n",
        "  <tbody>\n",
        "    <tr>\n",
        "      <th>0</th>\n",
        "      <td>   0</td>\n",
        "      <td>   0</td>\n",
        "      <td>  56</td>\n",
        "      <td>  57</td>\n",
        "      <td>   150</td>\n",
        "      <td>   150</td>\n",
        "      <td> 12735</td>\n",
        "      <td> 12739</td>\n",
        "      <td> 1</td>\n",
        "      <td>  55</td>\n",
        "      <td>  56</td>\n",
        "      <td>  56</td>\n",
        "      <td> 12585</td>\n",
        "      <td> 12589</td>\n",
        "      <td>  True</td>\n",
        "    </tr>\n",
        "    <tr>\n",
        "      <th>1</th>\n",
        "      <td>  56</td>\n",
        "      <td>  57</td>\n",
        "      <td> 409</td>\n",
        "      <td> 410</td>\n",
        "      <td> 12735</td>\n",
        "      <td> 12739</td>\n",
        "      <td> 82578</td>\n",
        "      <td> 82727</td>\n",
        "      <td> 2</td>\n",
        "      <td> 333</td>\n",
        "      <td> 353</td>\n",
        "      <td> 353</td>\n",
        "      <td> 69839</td>\n",
        "      <td> 69992</td>\n",
        "      <td> False</td>\n",
        "    </tr>\n",
        "    <tr>\n",
        "      <th>2</th>\n",
        "      <td> 409</td>\n",
        "      <td> 410</td>\n",
        "      <td> 501</td>\n",
        "      <td> 501</td>\n",
        "      <td> 82578</td>\n",
        "      <td> 82727</td>\n",
        "      <td> 99991</td>\n",
        "      <td> 99991</td>\n",
        "      <td> 1</td>\n",
        "      <td>  86</td>\n",
        "      <td>  92</td>\n",
        "      <td>  92</td>\n",
        "      <td> 17264</td>\n",
        "      <td> 17413</td>\n",
        "      <td>  True</td>\n",
        "    </tr>\n",
        "  </tbody>\n",
        "</table>\n",
        "</div>"
       ],
       "metadata": {},
       "output_type": "pyout",
       "prompt_number": 34,
       "text": [
        "   start_min_idx  start_max_idx  stop_min_idx  stop_max_idx  start_min_pos  \\\n",
        "0              0              0            56            57            150   \n",
        "1             56             57           409           410          12735   \n",
        "2            409            410           501           501          82578   \n",
        "\n",
        "   start_max_pos  stop_min_pos  stop_max_pos  state  support  size_min  \\\n",
        "0            150         12735         12739      1       55        56   \n",
        "1          12739         82578         82727      2      333       353   \n",
        "2          82727         99991         99991      1       86        92   \n",
        "\n",
        "   size_max  length_min  length_max is_marginal  \n",
        "0        56       12585       12589        True  \n",
        "1       353       69839       69992       False  \n",
        "2        92       17264       17413        True  "
       ]
      }
     ],
     "prompt_number": 34
    },
    {
     "cell_type": "code",
     "collapsed": false,
     "input": [
      "# filter using minimal block length\n",
      "inh_seg_flt = inh_seg.copy()\n",
      "inh_seg_flt[block_length_min < 100] = anhima.ped.INHERIT_MISSING\n",
      "fig, ax = plt.subplots(figsize=(12, 8))\n",
      "anhima.gt.plot_discrete_calldata(inh_seg_flt, \n",
      "                                 colors=inheritance_colors,\n",
      "                                 states=range(8),\n",
      "                                 ax=ax)\n",
      "ax.set_xticks(np.arange(0, inh_seg.shape[0], 50));   "
     ],
     "language": "python",
     "metadata": {},
     "outputs": [
      {
       "metadata": {},
       "output_type": "display_data",
       "png": "[encoded data removed]",
       "text": [
        "<matplotlib.figure.Figure at 0x7f916bd6d7b8>"
       ]
      }
     ],
     "prompt_number": 35
    },
    {
     "cell_type": "code",
     "collapsed": false,
     "input": [
      "anhima.util.tabulate_state_blocks(inh_seg_flt[:, 0], states, pos)"
     ],
     "language": "python",
     "metadata": {},
     "outputs": [
      {
       "html": [
        "<div style=\"max-height:1000px;max-width:1500px;overflow:auto;\">\n",
        "<table border=\"1\" class=\"dataframe\">\n",
        "  <thead>\n",
        "    <tr style=\"text-align: right;\">\n",
        "      <th></th>\n",
        "      <th>start_min_idx</th>\n",
        "      <th>start_max_idx</th>\n",
        "      <th>stop_min_idx</th>\n",
        "      <th>stop_max_idx</th>\n",
        "      <th>start_min_pos</th>\n",
        "      <th>start_max_pos</th>\n",
        "      <th>stop_min_pos</th>\n",
        "      <th>stop_max_pos</th>\n",
        "      <th>state</th>\n",
        "      <th>support</th>\n",
        "      <th>size_min</th>\n",
        "      <th>size_max</th>\n",
        "      <th>length_min</th>\n",
        "      <th>length_max</th>\n",
        "      <th>is_marginal</th>\n",
        "    </tr>\n",
        "  </thead>\n",
        "  <tbody>\n",
        "    <tr>\n",
        "      <th>0</th>\n",
        "      <td>   0</td>\n",
        "      <td>   0</td>\n",
        "      <td>  56</td>\n",
        "      <td>  57</td>\n",
        "      <td>   150</td>\n",
        "      <td>   150</td>\n",
        "      <td> 12735</td>\n",
        "      <td> 12739</td>\n",
        "      <td> 1</td>\n",
        "      <td>  55</td>\n",
        "      <td>  56</td>\n",
        "      <td>  56</td>\n",
        "      <td> 12585</td>\n",
        "      <td> 12589</td>\n",
        "      <td>  True</td>\n",
        "    </tr>\n",
        "    <tr>\n",
        "      <th>1</th>\n",
        "      <td>  56</td>\n",
        "      <td>  57</td>\n",
        "      <td> 406</td>\n",
        "      <td> 410</td>\n",
        "      <td> 12735</td>\n",
        "      <td> 12739</td>\n",
        "      <td> 82242</td>\n",
        "      <td> 82727</td>\n",
        "      <td> 2</td>\n",
        "      <td> 331</td>\n",
        "      <td> 350</td>\n",
        "      <td> 353</td>\n",
        "      <td> 69503</td>\n",
        "      <td> 69992</td>\n",
        "      <td> False</td>\n",
        "    </tr>\n",
        "    <tr>\n",
        "      <th>2</th>\n",
        "      <td> 406</td>\n",
        "      <td> 410</td>\n",
        "      <td> 501</td>\n",
        "      <td> 501</td>\n",
        "      <td> 82242</td>\n",
        "      <td> 82727</td>\n",
        "      <td> 99991</td>\n",
        "      <td> 99991</td>\n",
        "      <td> 1</td>\n",
        "      <td>  86</td>\n",
        "      <td>  92</td>\n",
        "      <td>  95</td>\n",
        "      <td> 17264</td>\n",
        "      <td> 17749</td>\n",
        "      <td>  True</td>\n",
        "    </tr>\n",
        "  </tbody>\n",
        "</table>\n",
        "</div>"
       ],
       "metadata": {},
       "output_type": "pyout",
       "prompt_number": 36,
       "text": [
        "   start_min_idx  start_max_idx  stop_min_idx  stop_max_idx  start_min_pos  \\\n",
        "0              0              0            56            57            150   \n",
        "1             56             57           406           410          12735   \n",
        "2            406            410           501           501          82242   \n",
        "\n",
        "   start_max_pos  stop_min_pos  stop_max_pos  state  support  size_min  \\\n",
        "0            150         12735         12739      1       55        56   \n",
        "1          12739         82242         82727      2      331       350   \n",
        "2          82727         99991         99991      1       86        92   \n",
        "\n",
        "   size_max  length_min  length_max is_marginal  \n",
        "0        56       12585       12589        True  \n",
        "1       353       69503       69992       False  \n",
        "2        95       17264       17749        True  "
       ]
      }
     ],
     "prompt_number": 36
    },
    {
     "cell_type": "code",
     "collapsed": false,
     "input": [],
     "language": "python",
     "metadata": {},
     "outputs": [],
     "prompt_number": 31
    }
   ],
   "metadata": {}
  }
 ]
}