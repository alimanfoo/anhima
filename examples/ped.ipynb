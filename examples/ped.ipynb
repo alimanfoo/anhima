{
 "metadata": {
  "name": "",
  "signature": "sha256:d8345a260c3c6f6a9a90c7787715c240caa712f23fcd4f5c1b139c7aa9268819"
 },
 "nbformat": 3,
 "nbformat_minor": 0,
 "worksheets": [
  {
   "cells": [
    {
     "cell_type": "heading",
     "level": 1,
     "metadata": {},
     "source": [
      "``anhima.ped`` - Pedigrees"
     ]
    },
    {
     "cell_type": "code",
     "collapsed": false,
     "input": [
      "import numpy as np\n",
      "np.random.seed(1)\n",
      "import scipy.stats\n",
      "import itertools\n",
      "import random\n",
      "random.seed(1)\n",
      "import matplotlib.pyplot as plt\n",
      "%matplotlib inline\n",
      "import sys\n",
      "#import anhima\n",
      "# dev imports\n",
      "sys.path.insert(0, '../src')\n",
      "%reload_ext autoreload\n",
      "%autoreload 1\n",
      "%aimport anhima.sim\n",
      "%aimport anhima.util\n",
      "%aimport anhima.gt\n",
      "%aimport anhima.ped"
     ],
     "language": "python",
     "metadata": {},
     "outputs": [],
     "prompt_number": 1
    },
    {
     "cell_type": "code",
     "collapsed": false,
     "input": [
      "# simulate parent diplotype\n",
      "n_variants = 1000\n",
      "p_alt = .5\n",
      "parent_diplotype_truth = scipy.stats.bernoulli.rvs(p_alt, size=1000*2).reshape(1000, 2)\n",
      "\n",
      "# introduce some missingness\n",
      "p_missing = .03\n",
      "n_missing = scipy.stats.binom(p=p_missing, n=n_variants).rvs()\n",
      "loc_missing = random.sample(range(n_variants), n_missing)\n",
      "parent_diplotype = parent_diplotype_truth.copy()\n",
      "parent_diplotype[loc_missing] = (-1, -1)\n",
      "\n",
      "parent_diplotype"
     ],
     "language": "python",
     "metadata": {},
     "outputs": [
      {
       "metadata": {},
       "output_type": "pyout",
       "prompt_number": 2,
       "text": [
        "array([[ 0,  1],\n",
        "       [ 0,  0],\n",
        "       [-1, -1],\n",
        "       ..., \n",
        "       [ 1,  0],\n",
        "       [ 0,  1],\n",
        "       [ 0,  1]])"
       ]
      }
     ],
     "prompt_number": 2
    },
    {
     "cell_type": "code",
     "collapsed": false,
     "input": [
      "anhima.gt.count_called(parent_diplotype)"
     ],
     "language": "python",
     "metadata": {},
     "outputs": [
      {
       "metadata": {},
       "output_type": "pyout",
       "prompt_number": 3,
       "text": [
        "969"
       ]
      }
     ],
     "prompt_number": 3
    },
    {
     "cell_type": "code",
     "collapsed": false,
     "input": [
      "anhima.gt.count_hom_ref(parent_diplotype)"
     ],
     "language": "python",
     "metadata": {},
     "outputs": [
      {
       "metadata": {},
       "output_type": "pyout",
       "prompt_number": 4,
       "text": [
        "218"
       ]
      }
     ],
     "prompt_number": 4
    },
    {
     "cell_type": "code",
     "collapsed": false,
     "input": [
      "anhima.gt.count_het(parent_diplotype)"
     ],
     "language": "python",
     "metadata": {},
     "outputs": [
      {
       "metadata": {},
       "output_type": "pyout",
       "prompt_number": 5,
       "text": [
        "498"
       ]
      }
     ],
     "prompt_number": 5
    },
    {
     "cell_type": "code",
     "collapsed": false,
     "input": [
      "anhima.gt.count_hom_alt(parent_diplotype)"
     ],
     "language": "python",
     "metadata": {},
     "outputs": [
      {
       "metadata": {},
       "output_type": "pyout",
       "prompt_number": 6,
       "text": [
        "253"
       ]
      }
     ],
     "prompt_number": 6
    },
    {
     "cell_type": "code",
     "collapsed": false,
     "input": [
      "# simulate gamete haplotypes\n",
      "n_gametes = 20\n",
      "gamete_haplotypes = np.empty((n_variants, n_gametes), dtype='i1')\n",
      "n_crossovers = scipy.stats.poisson.rvs(.8, size=n_gametes)\n",
      "p_mendel_error = .03\n",
      "\n",
      "for i in range(n_gametes):\n",
      "    \n",
      "    # randomly choose which parent to start with\n",
      "    parent = scipy.stats.bernoulli(.5).rvs()\n",
      "    h = parent_diplotype_truth[:, parent].copy()\n",
      "    \n",
      "    # simulate crossovers\n",
      "    loc_switches = sorted(np.random.randint(0, n_variants, size=n_crossovers[i]))\n",
      "    for l in loc_switches:\n",
      "        parent = 0 if parent == 1 else 1\n",
      "        h[l:] = parent_diplotype_truth[l:, parent]\n",
      "        \n",
      "    # simulate errors\n",
      "    n_me = scipy.stats.binom(p=p_mendel_error, n=n_variants).rvs()\n",
      "    loc_me = random.sample(range(n_variants), n_me)\n",
      "    h[loc_me] = scipy.stats.bernoulli.rvs(.5, size=n_me)\n",
      "    \n",
      "    # simulate missingness\n",
      "    n_missing = scipy.stats.binom(p=p_missing, n=n_variants).rvs()\n",
      "    loc_missing = random.sample(range(n_variants), n_missing)\n",
      "    h[loc_missing] = -1\n",
      "    \n",
      "    gamete_haplotypes[:, i] = h\n",
      "    \n",
      "gamete_haplotypes"
     ],
     "language": "python",
     "metadata": {},
     "outputs": [
      {
       "metadata": {},
       "output_type": "pyout",
       "prompt_number": 7,
       "text": [
        "array([[0, 0, 0, ..., 1, 1, 1],\n",
        "       [0, 0, 0, ..., 0, 0, 0],\n",
        "       [0, 0, 0, ..., 0, 0, 0],\n",
        "       ..., \n",
        "       [1, 1, 1, ..., 1, 1, 1],\n",
        "       [0, 0, 0, ..., 0, 0, 0],\n",
        "       [0, 0, 0, ..., 0, 0, 0]], dtype=int8)"
       ]
      }
     ],
     "prompt_number": 7
    },
    {
     "cell_type": "heading",
     "level": 2,
     "metadata": {},
     "source": [
      "Diploid inheritance"
     ]
    },
    {
     "cell_type": "code",
     "collapsed": false,
     "input": [
      "inh = anhima.ped.diploid_inheritance(parent_diplotype, gamete_haplotypes)"
     ],
     "language": "python",
     "metadata": {},
     "outputs": [],
     "prompt_number": 8
    },
    {
     "cell_type": "code",
     "collapsed": false,
     "input": [
      "inh"
     ],
     "language": "python",
     "metadata": {},
     "outputs": [
      {
       "metadata": {},
       "output_type": "pyout",
       "prompt_number": 9,
       "text": [
        "array([[1, 1, 1, ..., 2, 2, 2],\n",
        "       [3, 3, 3, ..., 3, 3, 3],\n",
        "       [6, 6, 6, ..., 6, 6, 6],\n",
        "       ..., \n",
        "       [1, 1, 1, ..., 1, 1, 1],\n",
        "       [1, 1, 1, ..., 1, 1, 1],\n",
        "       [1, 1, 1, ..., 1, 1, 1]], dtype=uint8)"
       ]
      }
     ],
     "prompt_number": 9
    },
    {
     "cell_type": "code",
     "collapsed": false,
     "input": [
      "inheritance_colors = ['red',    # parent 1\n",
      "                      'blue',   # parent 2\n",
      "                      'green',  # parents both ref\n",
      "                      'orange', # parents both alt\n",
      "                      'black',  # non-parental\n",
      "                      'yellow', # parents missing\n",
      "                      'white']  # missing"
     ],
     "language": "python",
     "metadata": {},
     "outputs": [],
     "prompt_number": 10
    },
    {
     "cell_type": "code",
     "collapsed": false,
     "input": [
      "fig, ax = plt.subplots(figsize=(12, 8))\n",
      "anhima.gt.plot_discrete_calldata(inh, \n",
      "                                 colors=inheritance_colors,\n",
      "                                 states=range(1, 8),\n",
      "                                 ax=ax);   "
     ],
     "language": "python",
     "metadata": {},
     "outputs": [
      {
       "metadata": {},
       "output_type": "display_data",
       "png": "[encoded data removed]",
       "text": [
        "<matplotlib.figure.Figure at 0x7f76ff5acb90>"
       ]
      }
     ],
     "prompt_number": 11
    },
    {
     "cell_type": "code",
     "collapsed": false,
     "input": [
      "inh_seg = inh[anhima.gt.is_het(parent_diplotype), :]\n",
      "inh_seg.shape"
     ],
     "language": "python",
     "metadata": {},
     "outputs": [
      {
       "metadata": {},
       "output_type": "pyout",
       "prompt_number": 12,
       "text": [
        "(498, 20)"
       ]
      }
     ],
     "prompt_number": 12
    },
    {
     "cell_type": "code",
     "collapsed": false,
     "input": [
      "fig, ax = plt.subplots(figsize=(12, 8))\n",
      "anhima.gt.plot_discrete_calldata(inh_seg, \n",
      "                                 colors=inheritance_colors,\n",
      "                                 states=range(8),\n",
      "                                 ax=ax)\n",
      "ax.set_xticks(np.arange(0, inh_seg.shape[0], 50));   "
     ],
     "language": "python",
     "metadata": {},
     "outputs": [
      {
       "metadata": {},
       "output_type": "display_data",
       "png": "[encoded data removed]",
       "text": [
        "<matplotlib.figure.Figure at 0x7f76ff530510>"
       ]
      }
     ],
     "prompt_number": 13
    },
    {
     "cell_type": "heading",
     "level": 2,
     "metadata": {},
     "source": [
      "Impute inheritance"
     ]
    },
    {
     "cell_type": "code",
     "collapsed": false,
     "input": [
      "# simulate random variant positions\n",
      "pos = np.asarray(random.sample(range(100000), inh_seg.shape[0]))\n",
      "pos.sort()"
     ],
     "language": "python",
     "metadata": {},
     "outputs": [],
     "prompt_number": 14
    },
    {
     "cell_type": "code",
     "collapsed": false,
     "input": [
      "pos_impute = [0] + random.sample(range(100000), 100) + [200000]\n",
      "pos_impute = np.array(pos_impute)\n",
      "pos_impute.sort()\n",
      "pos_impute"
     ],
     "language": "python",
     "metadata": {},
     "outputs": [
      {
       "metadata": {},
       "output_type": "pyout",
       "prompt_number": 15,
       "text": [
        "array([     0,    682,   1794,   3263,   3620,   4928,   4945,   5237,\n",
        "         6830,   6918,   7415,   7968,   8707,   9714,  12041,  13358,\n",
        "        13519,  13545,  13551,  14085,  14949,  16359,  17154,  18678,\n",
        "        19166,  19631,  20521,  20824,  21016,  22807,  23542,  24696,\n",
        "        27088,  30974,  31144,  31609,  31883,  32706,  34207,  34242,\n",
        "        35562,  35599,  35974,  36032,  36288,  36677,  36888,  40295,\n",
        "        42835,  43212,  43310,  45768,  47497,  48036,  50774,  51069,\n",
        "        51245,  53460,  53945,  54192,  54996,  55915,  56681,  57512,\n",
        "        58083,  60969,  61203,  61389,  62704,  62730,  64382,  64505,\n",
        "        66584,  67060,  67797,  68451,  69773,  71139,  72614,  76299,\n",
        "        78176,  83795,  84479,  84790,  85590,  85799,  86734,  87031,\n",
        "        87146,  87160,  88634,  89032,  90108,  90355,  91637,  94182,\n",
        "        94856,  96246,  96493,  98512,  98529, 200000])"
       ]
      }
     ],
     "prompt_number": 15
    },
    {
     "cell_type": "code",
     "collapsed": false,
     "input": [
      "inh_imputed = anhima.ped.impute_inheritance_nearest(inh_seg, pos, pos_impute)"
     ],
     "language": "python",
     "metadata": {},
     "outputs": [],
     "prompt_number": 16
    },
    {
     "cell_type": "code",
     "collapsed": false,
     "input": [
      "fig, ax = plt.subplots(figsize=(12, 8))\n",
      "anhima.gt.plot_discrete_calldata(inh_imputed, \n",
      "                                 colors=inheritance_colors,\n",
      "                                 states=range(8),\n",
      "                                 ax=ax);   "
     ],
     "language": "python",
     "metadata": {},
     "outputs": [
      {
       "metadata": {},
       "output_type": "display_data",
       "png": "[encoded data removed]",
       "text": [
        "<matplotlib.figure.Figure at 0x7f76ff530410>"
       ]
      }
     ],
     "prompt_number": 17
    },
    {
     "cell_type": "heading",
     "level": 2,
     "metadata": {},
     "source": [
      "Inheritance switches and blocks"
     ]
    },
    {
     "cell_type": "code",
     "collapsed": false,
     "input": [
      "# consider first gamete only\n",
      "x = inh_seg[:, 0]\n",
      "fig, ax = plt.subplots(figsize=(14, 1))\n",
      "anhima.gt.plot_discrete_calldata(x[:, None], \n",
      "                                 colors=inheritance_colors,\n",
      "                                 states=range(8),\n",
      "                                 ax=ax)\n",
      "ax.set_xticks(np.arange(0, x.size, 50));"
     ],
     "language": "python",
     "metadata": {},
     "outputs": [
      {
       "metadata": {},
       "output_type": "display_data",
       "png": "[encoded data removed]",
       "text": [
        "<matplotlib.figure.Figure at 0x7f772c298f90>"
       ]
      }
     ],
     "prompt_number": 18
    },
    {
     "cell_type": "code",
     "collapsed": false,
     "input": [
      "states = anhima.ped.INHERIT_PARENT1, anhima.ped.INHERIT_PARENT2\n",
      "df_switches = anhima.util.tabulate_state_transitions(x, states, pos)\n",
      "df_switches.head()"
     ],
     "language": "python",
     "metadata": {},
     "outputs": [
      {
       "html": [
        "<div style=\"max-height:1000px;max-width:1500px;overflow:auto;\">\n",
        "<table border=\"1\" class=\"dataframe\">\n",
        "  <thead>\n",
        "    <tr style=\"text-align: right;\">\n",
        "      <th></th>\n",
        "      <th>lidx</th>\n",
        "      <th>ridx</th>\n",
        "      <th>lpos</th>\n",
        "      <th>rpos</th>\n",
        "      <th>lval</th>\n",
        "      <th>rval</th>\n",
        "    </tr>\n",
        "  </thead>\n",
        "  <tbody>\n",
        "    <tr>\n",
        "      <th>0</th>\n",
        "      <td>  54</td>\n",
        "      <td>  55</td>\n",
        "      <td> 10476</td>\n",
        "      <td> 10788</td>\n",
        "      <td> 1</td>\n",
        "      <td> 2</td>\n",
        "    </tr>\n",
        "    <tr>\n",
        "      <th>1</th>\n",
        "      <td> 109</td>\n",
        "      <td> 110</td>\n",
        "      <td> 20943</td>\n",
        "      <td> 21014</td>\n",
        "      <td> 2</td>\n",
        "      <td> 1</td>\n",
        "    </tr>\n",
        "    <tr>\n",
        "      <th>2</th>\n",
        "      <td> 110</td>\n",
        "      <td> 111</td>\n",
        "      <td> 21014</td>\n",
        "      <td> 21058</td>\n",
        "      <td> 1</td>\n",
        "      <td> 2</td>\n",
        "    </tr>\n",
        "    <tr>\n",
        "      <th>3</th>\n",
        "      <td> 161</td>\n",
        "      <td> 162</td>\n",
        "      <td> 29536</td>\n",
        "      <td> 29696</td>\n",
        "      <td> 2</td>\n",
        "      <td> 1</td>\n",
        "    </tr>\n",
        "    <tr>\n",
        "      <th>4</th>\n",
        "      <td> 162</td>\n",
        "      <td> 163</td>\n",
        "      <td> 29696</td>\n",
        "      <td> 30132</td>\n",
        "      <td> 1</td>\n",
        "      <td> 2</td>\n",
        "    </tr>\n",
        "  </tbody>\n",
        "</table>\n",
        "</div>"
       ],
       "metadata": {},
       "output_type": "pyout",
       "prompt_number": 19,
       "text": [
        "   lidx  ridx   lpos   rpos  lval  rval\n",
        "0    54    55  10476  10788     1     2\n",
        "1   109   110  20943  21014     2     1\n",
        "2   110   111  21014  21058     1     2\n",
        "3   161   162  29536  29696     2     1\n",
        "4   162   163  29696  30132     1     2"
       ]
      }
     ],
     "prompt_number": 19
    },
    {
     "cell_type": "code",
     "collapsed": false,
     "input": [
      "df_switches.tail()"
     ],
     "language": "python",
     "metadata": {},
     "outputs": [
      {
       "html": [
        "<div style=\"max-height:1000px;max-width:1500px;overflow:auto;\">\n",
        "<table border=\"1\" class=\"dataframe\">\n",
        "  <thead>\n",
        "    <tr style=\"text-align: right;\">\n",
        "      <th></th>\n",
        "      <th>lidx</th>\n",
        "      <th>ridx</th>\n",
        "      <th>lpos</th>\n",
        "      <th>rpos</th>\n",
        "      <th>lval</th>\n",
        "      <th>rval</th>\n",
        "    </tr>\n",
        "  </thead>\n",
        "  <tbody>\n",
        "    <tr>\n",
        "      <th>19</th>\n",
        "      <td> 410</td>\n",
        "      <td> 411</td>\n",
        "      <td> 82201</td>\n",
        "      <td> 82289</td>\n",
        "      <td> 2</td>\n",
        "      <td> 1</td>\n",
        "    </tr>\n",
        "    <tr>\n",
        "      <th>20</th>\n",
        "      <td> 421</td>\n",
        "      <td> 422</td>\n",
        "      <td> 83859</td>\n",
        "      <td> 84206</td>\n",
        "      <td> 1</td>\n",
        "      <td> 2</td>\n",
        "    </tr>\n",
        "    <tr>\n",
        "      <th>21</th>\n",
        "      <td> 422</td>\n",
        "      <td> 424</td>\n",
        "      <td> 84206</td>\n",
        "      <td> 84714</td>\n",
        "      <td> 2</td>\n",
        "      <td> 1</td>\n",
        "    </tr>\n",
        "    <tr>\n",
        "      <th>22</th>\n",
        "      <td> 435</td>\n",
        "      <td> 436</td>\n",
        "      <td> 87022</td>\n",
        "      <td> 87036</td>\n",
        "      <td> 1</td>\n",
        "      <td> 2</td>\n",
        "    </tr>\n",
        "    <tr>\n",
        "      <th>23</th>\n",
        "      <td> 436</td>\n",
        "      <td> 437</td>\n",
        "      <td> 87036</td>\n",
        "      <td> 87191</td>\n",
        "      <td> 2</td>\n",
        "      <td> 1</td>\n",
        "    </tr>\n",
        "  </tbody>\n",
        "</table>\n",
        "</div>"
       ],
       "metadata": {},
       "output_type": "pyout",
       "prompt_number": 20,
       "text": [
        "    lidx  ridx   lpos   rpos  lval  rval\n",
        "19   410   411  82201  82289     2     1\n",
        "20   421   422  83859  84206     1     2\n",
        "21   422   424  84206  84714     2     1\n",
        "22   435   436  87022  87036     1     2\n",
        "23   436   437  87036  87191     2     1"
       ]
      }
     ],
     "prompt_number": 20
    },
    {
     "cell_type": "code",
     "collapsed": false,
     "input": [
      "df_blocks = anhima.util.tabulate_state_blocks(x, states, pos)\n",
      "df_blocks.head()"
     ],
     "language": "python",
     "metadata": {},
     "outputs": [
      {
       "html": [
        "<div style=\"max-height:1000px;max-width:1500px;overflow:auto;\">\n",
        "<table border=\"1\" class=\"dataframe\">\n",
        "  <thead>\n",
        "    <tr style=\"text-align: right;\">\n",
        "      <th></th>\n",
        "      <th>start_min_idx</th>\n",
        "      <th>start_max_idx</th>\n",
        "      <th>stop_min_idx</th>\n",
        "      <th>stop_max_idx</th>\n",
        "      <th>start_min_pos</th>\n",
        "      <th>start_max_pos</th>\n",
        "      <th>stop_min_pos</th>\n",
        "      <th>stop_max_pos</th>\n",
        "      <th>state</th>\n",
        "      <th>support</th>\n",
        "      <th>size_min</th>\n",
        "      <th>size_max</th>\n",
        "      <th>length_min</th>\n",
        "      <th>length_max</th>\n",
        "      <th>is_marginal</th>\n",
        "    </tr>\n",
        "  </thead>\n",
        "  <tbody>\n",
        "    <tr>\n",
        "      <th>0</th>\n",
        "      <td>   0</td>\n",
        "      <td>   0</td>\n",
        "      <td>  54</td>\n",
        "      <td>  55</td>\n",
        "      <td>   146</td>\n",
        "      <td>   146</td>\n",
        "      <td> 10476</td>\n",
        "      <td> 10788</td>\n",
        "      <td> 1</td>\n",
        "      <td> 53</td>\n",
        "      <td> 54</td>\n",
        "      <td> 54</td>\n",
        "      <td> 10330</td>\n",
        "      <td> 10642</td>\n",
        "      <td>  True</td>\n",
        "    </tr>\n",
        "    <tr>\n",
        "      <th>1</th>\n",
        "      <td>  54</td>\n",
        "      <td>  55</td>\n",
        "      <td> 109</td>\n",
        "      <td> 110</td>\n",
        "      <td> 10476</td>\n",
        "      <td> 10788</td>\n",
        "      <td> 20943</td>\n",
        "      <td> 21014</td>\n",
        "      <td> 2</td>\n",
        "      <td> 54</td>\n",
        "      <td> 55</td>\n",
        "      <td> 55</td>\n",
        "      <td> 10155</td>\n",
        "      <td> 10538</td>\n",
        "      <td> False</td>\n",
        "    </tr>\n",
        "    <tr>\n",
        "      <th>2</th>\n",
        "      <td> 109</td>\n",
        "      <td> 110</td>\n",
        "      <td> 110</td>\n",
        "      <td> 111</td>\n",
        "      <td> 20943</td>\n",
        "      <td> 21014</td>\n",
        "      <td> 21014</td>\n",
        "      <td> 21058</td>\n",
        "      <td> 1</td>\n",
        "      <td>  1</td>\n",
        "      <td>  1</td>\n",
        "      <td>  1</td>\n",
        "      <td>     0</td>\n",
        "      <td>   115</td>\n",
        "      <td> False</td>\n",
        "    </tr>\n",
        "    <tr>\n",
        "      <th>3</th>\n",
        "      <td> 110</td>\n",
        "      <td> 111</td>\n",
        "      <td> 161</td>\n",
        "      <td> 162</td>\n",
        "      <td> 21014</td>\n",
        "      <td> 21058</td>\n",
        "      <td> 29536</td>\n",
        "      <td> 29696</td>\n",
        "      <td> 2</td>\n",
        "      <td> 51</td>\n",
        "      <td> 51</td>\n",
        "      <td> 51</td>\n",
        "      <td>  8478</td>\n",
        "      <td>  8682</td>\n",
        "      <td> False</td>\n",
        "    </tr>\n",
        "    <tr>\n",
        "      <th>4</th>\n",
        "      <td> 161</td>\n",
        "      <td> 162</td>\n",
        "      <td> 162</td>\n",
        "      <td> 163</td>\n",
        "      <td> 29536</td>\n",
        "      <td> 29696</td>\n",
        "      <td> 29696</td>\n",
        "      <td> 30132</td>\n",
        "      <td> 1</td>\n",
        "      <td>  1</td>\n",
        "      <td>  1</td>\n",
        "      <td>  1</td>\n",
        "      <td>     0</td>\n",
        "      <td>   596</td>\n",
        "      <td> False</td>\n",
        "    </tr>\n",
        "  </tbody>\n",
        "</table>\n",
        "</div>"
       ],
       "metadata": {},
       "output_type": "pyout",
       "prompt_number": 21,
       "text": [
        "   start_min_idx  start_max_idx  stop_min_idx  stop_max_idx  start_min_pos  \\\n",
        "0              0              0            54            55            146   \n",
        "1             54             55           109           110          10476   \n",
        "2            109            110           110           111          20943   \n",
        "3            110            111           161           162          21014   \n",
        "4            161            162           162           163          29536   \n",
        "\n",
        "   start_max_pos  stop_min_pos  stop_max_pos  state  support  size_min  \\\n",
        "0            146         10476         10788      1       53        54   \n",
        "1          10788         20943         21014      2       54        55   \n",
        "2          21014         21014         21058      1        1         1   \n",
        "3          21058         29536         29696      2       51        51   \n",
        "4          29696         29696         30132      1        1         1   \n",
        "\n",
        "   size_max  length_min  length_max is_marginal  \n",
        "0        54       10330       10642        True  \n",
        "1        55       10155       10538       False  \n",
        "2         1           0         115       False  \n",
        "3        51        8478        8682       False  \n",
        "4         1           0         596       False  "
       ]
      }
     ],
     "prompt_number": 21
    },
    {
     "cell_type": "code",
     "collapsed": false,
     "input": [
      "df_blocks.tail()"
     ],
     "language": "python",
     "metadata": {},
     "outputs": [
      {
       "html": [
        "<div style=\"max-height:1000px;max-width:1500px;overflow:auto;\">\n",
        "<table border=\"1\" class=\"dataframe\">\n",
        "  <thead>\n",
        "    <tr style=\"text-align: right;\">\n",
        "      <th></th>\n",
        "      <th>start_min_idx</th>\n",
        "      <th>start_max_idx</th>\n",
        "      <th>stop_min_idx</th>\n",
        "      <th>stop_max_idx</th>\n",
        "      <th>start_min_pos</th>\n",
        "      <th>start_max_pos</th>\n",
        "      <th>stop_min_pos</th>\n",
        "      <th>stop_max_pos</th>\n",
        "      <th>state</th>\n",
        "      <th>support</th>\n",
        "      <th>size_min</th>\n",
        "      <th>size_max</th>\n",
        "      <th>length_min</th>\n",
        "      <th>length_max</th>\n",
        "      <th>is_marginal</th>\n",
        "    </tr>\n",
        "  </thead>\n",
        "  <tbody>\n",
        "    <tr>\n",
        "      <th>20</th>\n",
        "      <td> 410</td>\n",
        "      <td> 411</td>\n",
        "      <td> 421</td>\n",
        "      <td> 422</td>\n",
        "      <td> 82201</td>\n",
        "      <td> 82289</td>\n",
        "      <td> 83859</td>\n",
        "      <td> 84206</td>\n",
        "      <td> 1</td>\n",
        "      <td> 11</td>\n",
        "      <td> 11</td>\n",
        "      <td> 11</td>\n",
        "      <td>  1570</td>\n",
        "      <td>  2005</td>\n",
        "      <td> False</td>\n",
        "    </tr>\n",
        "    <tr>\n",
        "      <th>21</th>\n",
        "      <td> 421</td>\n",
        "      <td> 422</td>\n",
        "      <td> 422</td>\n",
        "      <td> 424</td>\n",
        "      <td> 83859</td>\n",
        "      <td> 84206</td>\n",
        "      <td> 84206</td>\n",
        "      <td> 84714</td>\n",
        "      <td> 2</td>\n",
        "      <td>  1</td>\n",
        "      <td>  1</td>\n",
        "      <td>  2</td>\n",
        "      <td>     0</td>\n",
        "      <td>   855</td>\n",
        "      <td> False</td>\n",
        "    </tr>\n",
        "    <tr>\n",
        "      <th>22</th>\n",
        "      <td> 422</td>\n",
        "      <td> 424</td>\n",
        "      <td> 435</td>\n",
        "      <td> 436</td>\n",
        "      <td> 84206</td>\n",
        "      <td> 84714</td>\n",
        "      <td> 87022</td>\n",
        "      <td> 87036</td>\n",
        "      <td> 1</td>\n",
        "      <td> 12</td>\n",
        "      <td> 12</td>\n",
        "      <td> 13</td>\n",
        "      <td>  2308</td>\n",
        "      <td>  2830</td>\n",
        "      <td> False</td>\n",
        "    </tr>\n",
        "    <tr>\n",
        "      <th>23</th>\n",
        "      <td> 435</td>\n",
        "      <td> 436</td>\n",
        "      <td> 436</td>\n",
        "      <td> 437</td>\n",
        "      <td> 87022</td>\n",
        "      <td> 87036</td>\n",
        "      <td> 87036</td>\n",
        "      <td> 87191</td>\n",
        "      <td> 2</td>\n",
        "      <td>  1</td>\n",
        "      <td>  1</td>\n",
        "      <td>  1</td>\n",
        "      <td>     0</td>\n",
        "      <td>   169</td>\n",
        "      <td> False</td>\n",
        "    </tr>\n",
        "    <tr>\n",
        "      <th>24</th>\n",
        "      <td> 436</td>\n",
        "      <td> 437</td>\n",
        "      <td> 497</td>\n",
        "      <td> 497</td>\n",
        "      <td> 87036</td>\n",
        "      <td> 87191</td>\n",
        "      <td> 99875</td>\n",
        "      <td> 99875</td>\n",
        "      <td> 1</td>\n",
        "      <td> 59</td>\n",
        "      <td> 61</td>\n",
        "      <td> 61</td>\n",
        "      <td> 12684</td>\n",
        "      <td> 12839</td>\n",
        "      <td>  True</td>\n",
        "    </tr>\n",
        "  </tbody>\n",
        "</table>\n",
        "</div>"
       ],
       "metadata": {},
       "output_type": "pyout",
       "prompt_number": 22,
       "text": [
        "    start_min_idx  start_max_idx  stop_min_idx  stop_max_idx  start_min_pos  \\\n",
        "20            410            411           421           422          82201   \n",
        "21            421            422           422           424          83859   \n",
        "22            422            424           435           436          84206   \n",
        "23            435            436           436           437          87022   \n",
        "24            436            437           497           497          87036   \n",
        "\n",
        "    start_max_pos  stop_min_pos  stop_max_pos  state  support  size_min  \\\n",
        "20          82289         83859         84206      1       11        11   \n",
        "21          84206         84206         84714      2        1         1   \n",
        "22          84714         87022         87036      1       12        12   \n",
        "23          87036         87036         87191      2        1         1   \n",
        "24          87191         99875         99875      1       59        61   \n",
        "\n",
        "    size_max  length_min  length_max is_marginal  \n",
        "20        11        1570        2005       False  \n",
        "21         2           0         855       False  \n",
        "22        13        2308        2830       False  \n",
        "23         1           0         169       False  \n",
        "24        61       12684       12839        True  "
       ]
      }
     ],
     "prompt_number": 22
    },
    {
     "cell_type": "code",
     "collapsed": false,
     "input": [
      "df_all_switches = anhima.ped.tabulate_inheritance_switches(inh_seg, pos)\n",
      "df_all_switches.head()"
     ],
     "language": "python",
     "metadata": {},
     "outputs": [
      {
       "html": [
        "<div style=\"max-height:1000px;max-width:1500px;overflow:auto;\">\n",
        "<table border=\"1\" class=\"dataframe\">\n",
        "  <thead>\n",
        "    <tr style=\"text-align: right;\">\n",
        "      <th></th>\n",
        "      <th></th>\n",
        "      <th>lidx</th>\n",
        "      <th>ridx</th>\n",
        "      <th>lpos</th>\n",
        "      <th>rpos</th>\n",
        "      <th>lval</th>\n",
        "      <th>rval</th>\n",
        "    </tr>\n",
        "  </thead>\n",
        "  <tbody>\n",
        "    <tr>\n",
        "      <th rowspan=\"5\" valign=\"top\">0</th>\n",
        "      <th>0</th>\n",
        "      <td>  54</td>\n",
        "      <td>  55</td>\n",
        "      <td> 10476</td>\n",
        "      <td> 10788</td>\n",
        "      <td> 1</td>\n",
        "      <td> 2</td>\n",
        "    </tr>\n",
        "    <tr>\n",
        "      <th>1</th>\n",
        "      <td> 109</td>\n",
        "      <td> 110</td>\n",
        "      <td> 20943</td>\n",
        "      <td> 21014</td>\n",
        "      <td> 2</td>\n",
        "      <td> 1</td>\n",
        "    </tr>\n",
        "    <tr>\n",
        "      <th>2</th>\n",
        "      <td> 110</td>\n",
        "      <td> 111</td>\n",
        "      <td> 21014</td>\n",
        "      <td> 21058</td>\n",
        "      <td> 1</td>\n",
        "      <td> 2</td>\n",
        "    </tr>\n",
        "    <tr>\n",
        "      <th>3</th>\n",
        "      <td> 161</td>\n",
        "      <td> 162</td>\n",
        "      <td> 29536</td>\n",
        "      <td> 29696</td>\n",
        "      <td> 2</td>\n",
        "      <td> 1</td>\n",
        "    </tr>\n",
        "    <tr>\n",
        "      <th>4</th>\n",
        "      <td> 162</td>\n",
        "      <td> 163</td>\n",
        "      <td> 29696</td>\n",
        "      <td> 30132</td>\n",
        "      <td> 1</td>\n",
        "      <td> 2</td>\n",
        "    </tr>\n",
        "  </tbody>\n",
        "</table>\n",
        "</div>"
       ],
       "metadata": {},
       "output_type": "pyout",
       "prompt_number": 23,
       "text": [
        "     lidx  ridx   lpos   rpos  lval  rval\n",
        "0 0    54    55  10476  10788     1     2\n",
        "  1   109   110  20943  21014     2     1\n",
        "  2   110   111  21014  21058     1     2\n",
        "  3   161   162  29536  29696     2     1\n",
        "  4   162   163  29696  30132     1     2"
       ]
      }
     ],
     "prompt_number": 23
    },
    {
     "cell_type": "code",
     "collapsed": false,
     "input": [
      "df_switches.equals(df_all_switches.loc[0])"
     ],
     "language": "python",
     "metadata": {},
     "outputs": [
      {
       "metadata": {},
       "output_type": "pyout",
       "prompt_number": 24,
       "text": [
        "True"
       ]
      }
     ],
     "prompt_number": 24
    },
    {
     "cell_type": "code",
     "collapsed": false,
     "input": [
      "df_all_blocks = anhima.ped.tabulate_inheritance_blocks(inh_seg, pos)\n",
      "df_all_blocks.head()"
     ],
     "language": "python",
     "metadata": {},
     "outputs": [
      {
       "html": [
        "<div style=\"max-height:1000px;max-width:1500px;overflow:auto;\">\n",
        "<table border=\"1\" class=\"dataframe\">\n",
        "  <thead>\n",
        "    <tr style=\"text-align: right;\">\n",
        "      <th></th>\n",
        "      <th></th>\n",
        "      <th>start_min_idx</th>\n",
        "      <th>start_max_idx</th>\n",
        "      <th>stop_min_idx</th>\n",
        "      <th>stop_max_idx</th>\n",
        "      <th>start_min_pos</th>\n",
        "      <th>start_max_pos</th>\n",
        "      <th>stop_min_pos</th>\n",
        "      <th>stop_max_pos</th>\n",
        "      <th>state</th>\n",
        "      <th>support</th>\n",
        "      <th>size_min</th>\n",
        "      <th>size_max</th>\n",
        "      <th>length_min</th>\n",
        "      <th>length_max</th>\n",
        "      <th>is_marginal</th>\n",
        "    </tr>\n",
        "  </thead>\n",
        "  <tbody>\n",
        "    <tr>\n",
        "      <th rowspan=\"5\" valign=\"top\">0</th>\n",
        "      <th>0</th>\n",
        "      <td>   0</td>\n",
        "      <td>   0</td>\n",
        "      <td>  54</td>\n",
        "      <td>  55</td>\n",
        "      <td>   146</td>\n",
        "      <td>   146</td>\n",
        "      <td> 10476</td>\n",
        "      <td> 10788</td>\n",
        "      <td> 1</td>\n",
        "      <td> 53</td>\n",
        "      <td> 54</td>\n",
        "      <td> 54</td>\n",
        "      <td> 10330</td>\n",
        "      <td> 10642</td>\n",
        "      <td>  True</td>\n",
        "    </tr>\n",
        "    <tr>\n",
        "      <th>1</th>\n",
        "      <td>  54</td>\n",
        "      <td>  55</td>\n",
        "      <td> 109</td>\n",
        "      <td> 110</td>\n",
        "      <td> 10476</td>\n",
        "      <td> 10788</td>\n",
        "      <td> 20943</td>\n",
        "      <td> 21014</td>\n",
        "      <td> 2</td>\n",
        "      <td> 54</td>\n",
        "      <td> 55</td>\n",
        "      <td> 55</td>\n",
        "      <td> 10155</td>\n",
        "      <td> 10538</td>\n",
        "      <td> False</td>\n",
        "    </tr>\n",
        "    <tr>\n",
        "      <th>2</th>\n",
        "      <td> 109</td>\n",
        "      <td> 110</td>\n",
        "      <td> 110</td>\n",
        "      <td> 111</td>\n",
        "      <td> 20943</td>\n",
        "      <td> 21014</td>\n",
        "      <td> 21014</td>\n",
        "      <td> 21058</td>\n",
        "      <td> 1</td>\n",
        "      <td>  1</td>\n",
        "      <td>  1</td>\n",
        "      <td>  1</td>\n",
        "      <td>     0</td>\n",
        "      <td>   115</td>\n",
        "      <td> False</td>\n",
        "    </tr>\n",
        "    <tr>\n",
        "      <th>3</th>\n",
        "      <td> 110</td>\n",
        "      <td> 111</td>\n",
        "      <td> 161</td>\n",
        "      <td> 162</td>\n",
        "      <td> 21014</td>\n",
        "      <td> 21058</td>\n",
        "      <td> 29536</td>\n",
        "      <td> 29696</td>\n",
        "      <td> 2</td>\n",
        "      <td> 51</td>\n",
        "      <td> 51</td>\n",
        "      <td> 51</td>\n",
        "      <td>  8478</td>\n",
        "      <td>  8682</td>\n",
        "      <td> False</td>\n",
        "    </tr>\n",
        "    <tr>\n",
        "      <th>4</th>\n",
        "      <td> 161</td>\n",
        "      <td> 162</td>\n",
        "      <td> 162</td>\n",
        "      <td> 163</td>\n",
        "      <td> 29536</td>\n",
        "      <td> 29696</td>\n",
        "      <td> 29696</td>\n",
        "      <td> 30132</td>\n",
        "      <td> 1</td>\n",
        "      <td>  1</td>\n",
        "      <td>  1</td>\n",
        "      <td>  1</td>\n",
        "      <td>     0</td>\n",
        "      <td>   596</td>\n",
        "      <td> False</td>\n",
        "    </tr>\n",
        "  </tbody>\n",
        "</table>\n",
        "</div>"
       ],
       "metadata": {},
       "output_type": "pyout",
       "prompt_number": 25,
       "text": [
        "     start_min_idx  start_max_idx  stop_min_idx  stop_max_idx  start_min_pos  \\\n",
        "0 0              0              0            54            55            146   \n",
        "  1             54             55           109           110          10476   \n",
        "  2            109            110           110           111          20943   \n",
        "  3            110            111           161           162          21014   \n",
        "  4            161            162           162           163          29536   \n",
        "\n",
        "     start_max_pos  stop_min_pos  stop_max_pos  state  support  size_min  \\\n",
        "0 0            146         10476         10788      1       53        54   \n",
        "  1          10788         20943         21014      2       54        55   \n",
        "  2          21014         21014         21058      1        1         1   \n",
        "  3          21058         29536         29696      2       51        51   \n",
        "  4          29696         29696         30132      1        1         1   \n",
        "\n",
        "     size_max  length_min  length_max is_marginal  \n",
        "0 0        54       10330       10642        True  \n",
        "  1        55       10155       10538       False  \n",
        "  2         1           0         115       False  \n",
        "  3        51        8478        8682       False  \n",
        "  4         1           0         596       False  "
       ]
      }
     ],
     "prompt_number": 25
    },
    {
     "cell_type": "code",
     "collapsed": false,
     "input": [
      "df_blocks.equals(df_all_blocks.loc[0])"
     ],
     "language": "python",
     "metadata": {},
     "outputs": [
      {
       "metadata": {},
       "output_type": "pyout",
       "prompt_number": 26,
       "text": [
        "True"
       ]
      }
     ],
     "prompt_number": 26
    },
    {
     "cell_type": "code",
     "collapsed": false,
     "input": [
      "block_support, block_length_min = anhima.ped.inheritance_block_masks(inh_seg, pos)"
     ],
     "language": "python",
     "metadata": {},
     "outputs": [],
     "prompt_number": 27
    },
    {
     "cell_type": "code",
     "collapsed": false,
     "input": [
      "# filter using block support\n",
      "inh_seg_flt = inh_seg.copy()\n",
      "inh_seg_flt[block_support < 2] = anhima.ped.INHERIT_MISSING\n",
      "fig, ax = plt.subplots(figsize=(12, 8))\n",
      "anhima.gt.plot_discrete_calldata(inh_seg_flt, \n",
      "                                 colors=inheritance_colors,\n",
      "                                 states=range(8),\n",
      "                                 ax=ax)\n",
      "ax.set_xticks(np.arange(0, inh_seg.shape[0], 50));   "
     ],
     "language": "python",
     "metadata": {},
     "outputs": [
      {
       "metadata": {},
       "output_type": "display_data",
       "png": "[encoded data removed]",
       "text": [
        "<matplotlib.figure.Figure at 0x7f76ff282710>"
       ]
      }
     ],
     "prompt_number": 28
    },
    {
     "cell_type": "code",
     "collapsed": false,
     "input": [
      "anhima.util.tabulate_state_blocks(inh_seg_flt[:, 0], states, pos)"
     ],
     "language": "python",
     "metadata": {},
     "outputs": [
      {
       "html": [
        "<div style=\"max-height:1000px;max-width:1500px;overflow:auto;\">\n",
        "<table border=\"1\" class=\"dataframe\">\n",
        "  <thead>\n",
        "    <tr style=\"text-align: right;\">\n",
        "      <th></th>\n",
        "      <th>start_min_idx</th>\n",
        "      <th>start_max_idx</th>\n",
        "      <th>stop_min_idx</th>\n",
        "      <th>stop_max_idx</th>\n",
        "      <th>start_min_pos</th>\n",
        "      <th>start_max_pos</th>\n",
        "      <th>stop_min_pos</th>\n",
        "      <th>stop_max_pos</th>\n",
        "      <th>state</th>\n",
        "      <th>support</th>\n",
        "      <th>size_min</th>\n",
        "      <th>size_max</th>\n",
        "      <th>length_min</th>\n",
        "      <th>length_max</th>\n",
        "      <th>is_marginal</th>\n",
        "    </tr>\n",
        "  </thead>\n",
        "  <tbody>\n",
        "    <tr>\n",
        "      <th>0</th>\n",
        "      <td>   0</td>\n",
        "      <td>   0</td>\n",
        "      <td>  54</td>\n",
        "      <td>  55</td>\n",
        "      <td>   146</td>\n",
        "      <td>   146</td>\n",
        "      <td> 10476</td>\n",
        "      <td> 10788</td>\n",
        "      <td> 1</td>\n",
        "      <td>  53</td>\n",
        "      <td>  54</td>\n",
        "      <td>  54</td>\n",
        "      <td> 10330</td>\n",
        "      <td> 10642</td>\n",
        "      <td>  True</td>\n",
        "    </tr>\n",
        "    <tr>\n",
        "      <th>1</th>\n",
        "      <td>  54</td>\n",
        "      <td>  55</td>\n",
        "      <td> 407</td>\n",
        "      <td> 408</td>\n",
        "      <td> 10476</td>\n",
        "      <td> 10788</td>\n",
        "      <td> 81928</td>\n",
        "      <td> 81988</td>\n",
        "      <td> 2</td>\n",
        "      <td> 338</td>\n",
        "      <td> 353</td>\n",
        "      <td> 353</td>\n",
        "      <td> 71140</td>\n",
        "      <td> 71512</td>\n",
        "      <td> False</td>\n",
        "    </tr>\n",
        "    <tr>\n",
        "      <th>2</th>\n",
        "      <td> 407</td>\n",
        "      <td> 408</td>\n",
        "      <td> 497</td>\n",
        "      <td> 497</td>\n",
        "      <td> 81928</td>\n",
        "      <td> 81988</td>\n",
        "      <td> 99875</td>\n",
        "      <td> 99875</td>\n",
        "      <td> 1</td>\n",
        "      <td>  83</td>\n",
        "      <td>  90</td>\n",
        "      <td>  90</td>\n",
        "      <td> 17887</td>\n",
        "      <td> 17947</td>\n",
        "      <td>  True</td>\n",
        "    </tr>\n",
        "  </tbody>\n",
        "</table>\n",
        "</div>"
       ],
       "metadata": {},
       "output_type": "pyout",
       "prompt_number": 29,
       "text": [
        "   start_min_idx  start_max_idx  stop_min_idx  stop_max_idx  start_min_pos  \\\n",
        "0              0              0            54            55            146   \n",
        "1             54             55           407           408          10476   \n",
        "2            407            408           497           497          81928   \n",
        "\n",
        "   start_max_pos  stop_min_pos  stop_max_pos  state  support  size_min  \\\n",
        "0            146         10476         10788      1       53        54   \n",
        "1          10788         81928         81988      2      338       353   \n",
        "2          81988         99875         99875      1       83        90   \n",
        "\n",
        "   size_max  length_min  length_max is_marginal  \n",
        "0        54       10330       10642        True  \n",
        "1       353       71140       71512       False  \n",
        "2        90       17887       17947        True  "
       ]
      }
     ],
     "prompt_number": 29
    },
    {
     "cell_type": "code",
     "collapsed": false,
     "input": [
      "# filter using minimal block length\n",
      "inh_seg_flt = inh_seg.copy()\n",
      "inh_seg_flt[block_length_min < 100] = anhima.ped.INHERIT_MISSING\n",
      "fig, ax = plt.subplots(figsize=(12, 8))\n",
      "anhima.gt.plot_discrete_calldata(inh_seg_flt, \n",
      "                                 colors=inheritance_colors,\n",
      "                                 states=range(8),\n",
      "                                 ax=ax)\n",
      "ax.set_xticks(np.arange(0, inh_seg.shape[0], 50));   "
     ],
     "language": "python",
     "metadata": {},
     "outputs": [
      {
       "metadata": {},
       "output_type": "display_data",
       "png": "[encoded data removed]",
       "text": [
        "<matplotlib.figure.Figure at 0x7f76ff2cddd0>"
       ]
      }
     ],
     "prompt_number": 30
    },
    {
     "cell_type": "code",
     "collapsed": false,
     "input": [
      "anhima.util.tabulate_state_blocks(inh_seg_flt[:, 0], states, pos)"
     ],
     "language": "python",
     "metadata": {},
     "outputs": [
      {
       "html": [
        "<div style=\"max-height:1000px;max-width:1500px;overflow:auto;\">\n",
        "<table border=\"1\" class=\"dataframe\">\n",
        "  <thead>\n",
        "    <tr style=\"text-align: right;\">\n",
        "      <th></th>\n",
        "      <th>start_min_idx</th>\n",
        "      <th>start_max_idx</th>\n",
        "      <th>stop_min_idx</th>\n",
        "      <th>stop_max_idx</th>\n",
        "      <th>start_min_pos</th>\n",
        "      <th>start_max_pos</th>\n",
        "      <th>stop_min_pos</th>\n",
        "      <th>stop_max_pos</th>\n",
        "      <th>state</th>\n",
        "      <th>support</th>\n",
        "      <th>size_min</th>\n",
        "      <th>size_max</th>\n",
        "      <th>length_min</th>\n",
        "      <th>length_max</th>\n",
        "      <th>is_marginal</th>\n",
        "    </tr>\n",
        "  </thead>\n",
        "  <tbody>\n",
        "    <tr>\n",
        "      <th>0</th>\n",
        "      <td>   0</td>\n",
        "      <td>   0</td>\n",
        "      <td>  54</td>\n",
        "      <td>  55</td>\n",
        "      <td>   146</td>\n",
        "      <td>   146</td>\n",
        "      <td> 10476</td>\n",
        "      <td> 10788</td>\n",
        "      <td> 1</td>\n",
        "      <td>  53</td>\n",
        "      <td>  54</td>\n",
        "      <td>  54</td>\n",
        "      <td> 10330</td>\n",
        "      <td> 10642</td>\n",
        "      <td>  True</td>\n",
        "    </tr>\n",
        "    <tr>\n",
        "      <th>1</th>\n",
        "      <td>  54</td>\n",
        "      <td>  55</td>\n",
        "      <td> 407</td>\n",
        "      <td> 408</td>\n",
        "      <td> 10476</td>\n",
        "      <td> 10788</td>\n",
        "      <td> 81928</td>\n",
        "      <td> 81988</td>\n",
        "      <td> 2</td>\n",
        "      <td> 338</td>\n",
        "      <td> 353</td>\n",
        "      <td> 353</td>\n",
        "      <td> 71140</td>\n",
        "      <td> 71512</td>\n",
        "      <td> False</td>\n",
        "    </tr>\n",
        "    <tr>\n",
        "      <th>2</th>\n",
        "      <td> 407</td>\n",
        "      <td> 408</td>\n",
        "      <td> 497</td>\n",
        "      <td> 497</td>\n",
        "      <td> 81928</td>\n",
        "      <td> 81988</td>\n",
        "      <td> 99875</td>\n",
        "      <td> 99875</td>\n",
        "      <td> 1</td>\n",
        "      <td>  83</td>\n",
        "      <td>  90</td>\n",
        "      <td>  90</td>\n",
        "      <td> 17887</td>\n",
        "      <td> 17947</td>\n",
        "      <td>  True</td>\n",
        "    </tr>\n",
        "  </tbody>\n",
        "</table>\n",
        "</div>"
       ],
       "metadata": {},
       "output_type": "pyout",
       "prompt_number": 31,
       "text": [
        "   start_min_idx  start_max_idx  stop_min_idx  stop_max_idx  start_min_pos  \\\n",
        "0              0              0            54            55            146   \n",
        "1             54             55           407           408          10476   \n",
        "2            407            408           497           497          81928   \n",
        "\n",
        "   start_max_pos  stop_min_pos  stop_max_pos  state  support  size_min  \\\n",
        "0            146         10476         10788      1       53        54   \n",
        "1          10788         81928         81988      2      338       353   \n",
        "2          81988         99875         99875      1       83        90   \n",
        "\n",
        "   size_max  length_min  length_max is_marginal  \n",
        "0        54       10330       10642        True  \n",
        "1       353       71140       71512       False  \n",
        "2        90       17887       17947        True  "
       ]
      }
     ],
     "prompt_number": 31
    },
    {
     "cell_type": "code",
     "collapsed": false,
     "input": [],
     "language": "python",
     "metadata": {},
     "outputs": [],
     "prompt_number": 31
    }
   ],
   "metadata": {}
  }
 ]
}