{
 "metadata": {
  "name": "",
  "signature": "sha256:2d7d17a1682242ad7ebfd8b6873e4739aba01ea793a9ed4d3212c1f04cbd5743"
 },
 "nbformat": 3,
 "nbformat_minor": 0,
 "worksheets": [
  {
   "cells": [
    {
     "cell_type": "heading",
     "level": 1,
     "metadata": {},
     "source": [
      "``anhima.ped`` - Pedigrees"
     ]
    },
    {
     "cell_type": "code",
     "collapsed": false,
     "input": [
      "import numpy as np\n",
      "np.random.seed(1)\n",
      "import scipy.stats\n",
      "import itertools\n",
      "import random\n",
      "random.seed(1)\n",
      "import matplotlib.pyplot as plt\n",
      "%matplotlib inline\n",
      "import sys\n",
      "sys.path.insert(0, '../src')\n",
      "%reload_ext autoreload\n",
      "%autoreload 1\n",
      "%aimport anhima.sim\n",
      "%aimport anhima.gt\n",
      "%aimport anhima.ped"
     ],
     "language": "python",
     "metadata": {},
     "outputs": [],
     "prompt_number": 1
    },
    {
     "cell_type": "code",
     "collapsed": false,
     "input": [
      "# simulate parental haplotypes\n",
      "n_variants = 1000\n",
      "p_alt = .5\n",
      "parent_haplotypes_truth = scipy.stats.bernoulli.rvs(p_alt, size=1000*2).reshape(1000, 2)\n",
      "\n",
      "# introduce some missingness\n",
      "p_missing = .03\n",
      "n_missing = scipy.stats.binom(p=p_missing, n=n_variants).rvs()\n",
      "loc_missing = random.sample(range(n_variants), n_missing)\n",
      "parent_haplotypes = parent_haplotypes_truth.copy()\n",
      "parent_haplotypes[loc_missing] = (-1, -1)\n",
      "\n",
      "parent_haplotypes"
     ],
     "language": "python",
     "metadata": {},
     "outputs": [
      {
       "metadata": {},
       "output_type": "pyout",
       "prompt_number": 2,
       "text": [
        "array([[ 0,  1],\n",
        "       [ 0,  0],\n",
        "       [-1, -1],\n",
        "       ..., \n",
        "       [ 1,  0],\n",
        "       [ 0,  1],\n",
        "       [ 0,  1]])"
       ]
      }
     ],
     "prompt_number": 2
    },
    {
     "cell_type": "code",
     "collapsed": false,
     "input": [
      "anhima.gt.count_called(parent_haplotypes)"
     ],
     "language": "python",
     "metadata": {},
     "outputs": [
      {
       "metadata": {},
       "output_type": "pyout",
       "prompt_number": 3,
       "text": [
        "969"
       ]
      }
     ],
     "prompt_number": 3
    },
    {
     "cell_type": "code",
     "collapsed": false,
     "input": [
      "anhima.gt.count_hom_ref(parent_haplotypes)"
     ],
     "language": "python",
     "metadata": {},
     "outputs": [
      {
       "metadata": {},
       "output_type": "pyout",
       "prompt_number": 4,
       "text": [
        "218"
       ]
      }
     ],
     "prompt_number": 4
    },
    {
     "cell_type": "code",
     "collapsed": false,
     "input": [
      "anhima.gt.count_het(parent_haplotypes)"
     ],
     "language": "python",
     "metadata": {},
     "outputs": [
      {
       "metadata": {},
       "output_type": "pyout",
       "prompt_number": 5,
       "text": [
        "498"
       ]
      }
     ],
     "prompt_number": 5
    },
    {
     "cell_type": "code",
     "collapsed": false,
     "input": [
      "anhima.gt.count_hom_alt(parent_haplotypes)"
     ],
     "language": "python",
     "metadata": {},
     "outputs": [
      {
       "metadata": {},
       "output_type": "pyout",
       "prompt_number": 6,
       "text": [
        "253"
       ]
      }
     ],
     "prompt_number": 6
    },
    {
     "cell_type": "code",
     "collapsed": false,
     "input": [
      "# simulate gamete haplotypes\n",
      "n_gametes = 20\n",
      "gamete_haplotypes = np.empty((n_variants, n_gametes), dtype='i1')\n",
      "n_crossovers = scipy.stats.poisson.rvs(.8, size=n_gametes)\n",
      "p_mendel_error = .03\n",
      "\n",
      "for i in range(n_gametes):\n",
      "    \n",
      "    # randomly choose which parent to start with\n",
      "    parent = scipy.stats.bernoulli(.5).rvs()\n",
      "    h = parent_haplotypes_truth[:, parent].copy()\n",
      "    \n",
      "    # simulate crossovers\n",
      "    loc_switches = sorted(np.random.randint(0, n_variants, size=n_crossovers[i]))\n",
      "    for l in loc_switches:\n",
      "        parent = 0 if parent == 1 else 1\n",
      "        h[l:] = parent_haplotypes_truth[l:, parent]\n",
      "        \n",
      "    # simulate errors\n",
      "    n_me = scipy.stats.binom(p=p_mendel_error, n=n_variants).rvs()\n",
      "    loc_me = random.sample(range(n_variants), n_me)\n",
      "    h[loc_me] = scipy.stats.bernoulli.rvs(.5, size=n_me)\n",
      "    \n",
      "    # simulate missingness\n",
      "    n_missing = scipy.stats.binom(p=p_missing, n=n_variants).rvs()\n",
      "    loc_missing = random.sample(range(n_variants), n_missing)\n",
      "    h[loc_missing] = -1\n",
      "    \n",
      "    gamete_haplotypes[:, i] = h\n",
      "    \n",
      "gamete_haplotypes"
     ],
     "language": "python",
     "metadata": {},
     "outputs": [
      {
       "metadata": {},
       "output_type": "pyout",
       "prompt_number": 7,
       "text": [
        "array([[0, 0, 0, ..., 1, 1, 1],\n",
        "       [0, 0, 0, ..., 0, 0, 0],\n",
        "       [0, 0, 0, ..., 0, 0, 0],\n",
        "       ..., \n",
        "       [1, 1, 1, ..., 1, 1, 1],\n",
        "       [0, 0, 0, ..., 0, 0, 0],\n",
        "       [0, 0, 0, ..., 0, 0, 0]], dtype=int8)"
       ]
      }
     ],
     "prompt_number": 7
    },
    {
     "cell_type": "heading",
     "level": 2,
     "metadata": {},
     "source": [
      "Diploid inheritance"
     ]
    },
    {
     "cell_type": "code",
     "collapsed": false,
     "input": [
      "inh = anhima.ped.diploid_inheritance(parent_haplotypes, gamete_haplotypes)"
     ],
     "language": "python",
     "metadata": {},
     "outputs": [],
     "prompt_number": 8
    },
    {
     "cell_type": "code",
     "collapsed": false,
     "input": [
      "inh"
     ],
     "language": "python",
     "metadata": {},
     "outputs": [
      {
       "metadata": {},
       "output_type": "pyout",
       "prompt_number": 9,
       "text": [
        "array([[1, 1, 1, ..., 2, 2, 2],\n",
        "       [3, 3, 3, ..., 3, 3, 3],\n",
        "       [6, 6, 6, ..., 6, 6, 6],\n",
        "       ..., \n",
        "       [1, 1, 1, ..., 1, 1, 1],\n",
        "       [1, 1, 1, ..., 1, 1, 1],\n",
        "       [1, 1, 1, ..., 1, 1, 1]], dtype=uint8)"
       ]
      }
     ],
     "prompt_number": 9
    },
    {
     "cell_type": "code",
     "collapsed": false,
     "input": [
      "inheritance_colors = ['red',    # parent 1\n",
      "                      'blue',   # parent 2\n",
      "                      'green',  # parents both ref\n",
      "                      'orange', # parents both alt\n",
      "                      'black',  # non-parental\n",
      "                      'yellow', # parents missing\n",
      "                      'white']  # missing"
     ],
     "language": "python",
     "metadata": {},
     "outputs": [],
     "prompt_number": 10
    },
    {
     "cell_type": "code",
     "collapsed": false,
     "input": [
      "fig, ax = plt.subplots(figsize=(12, 8))\n",
      "anhima.gt.plot_discrete_calldata(inh, \n",
      "                                 colors=inheritance_colors,\n",
      "                                 states=range(1, 8),\n",
      "                                 ax=ax);   "
     ],
     "language": "python",
     "metadata": {},
     "outputs": [
      {
       "metadata": {},
       "output_type": "display_data",
       "png": "[encoded data removed]",
       "text": [
        "<matplotlib.figure.Figure at 0x7f4df8c3f210>"
       ]
      }
     ],
     "prompt_number": 11
    },
    {
     "cell_type": "code",
     "collapsed": false,
     "input": [
      "inh_seg = inh[anhima.gt.is_het(parent_haplotypes), :]\n",
      "inh_seg.shape"
     ],
     "language": "python",
     "metadata": {},
     "outputs": [
      {
       "metadata": {},
       "output_type": "pyout",
       "prompt_number": 12,
       "text": [
        "(498, 20)"
       ]
      }
     ],
     "prompt_number": 12
    },
    {
     "cell_type": "code",
     "collapsed": false,
     "input": [
      "fig, ax = plt.subplots(figsize=(12, 8))\n",
      "anhima.gt.plot_discrete_calldata(inh_seg, \n",
      "                                 colors=inheritance_colors,\n",
      "                                 states=range(8),\n",
      "                                 ax=ax);   "
     ],
     "language": "python",
     "metadata": {},
     "outputs": [
      {
       "metadata": {},
       "output_type": "display_data",
       "png": "[encoded data removed]",
       "text": [
        "<matplotlib.figure.Figure at 0x7f4dfaca1850>"
       ]
      }
     ],
     "prompt_number": 13
    },
    {
     "cell_type": "code",
     "collapsed": false,
     "input": [],
     "language": "python",
     "metadata": {},
     "outputs": [],
     "prompt_number": 13
    }
   ],
   "metadata": {}
  }
 ]
}