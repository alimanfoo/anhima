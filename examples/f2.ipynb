{
 "metadata": {
  "name": "",
  "signature": "sha256:82e542fc52d1084d69fac76e25fdba1c03c32464161a5a633bd8a392a269df72"
 },
 "nbformat": 3,
 "nbformat_minor": 0,
 "worksheets": [
  {
   "cells": [
    {
     "cell_type": "heading",
     "level": 1,
     "metadata": {},
     "source": [
      "[``anhima.f2``](http://anhima.readthedocs.org/en/latest/f2.html) - Doubleton sharing"
     ]
    },
    {
     "cell_type": "code",
     "collapsed": false,
     "input": [
      "from __future__ import division, print_function\n",
      "import numpy as np\n",
      "np.random.seed(42)\n",
      "import scipy.stats\n",
      "import random\n",
      "random.seed(1)\n",
      "import matplotlib.pyplot as plt\n",
      "%matplotlib inline\n",
      "import sys\n",
      "# import anhima\n",
      "# # dev imports\n",
      "sys.path.insert(0, '..')\n",
      "%reload_ext autoreload\n",
      "%autoreload 1\n",
      "%aimport anhima.sim\n",
      "%aimport anhima.gt\n",
      "%aimport anhima.af\n",
      "%aimport anhima.f2"
     ],
     "language": "python",
     "metadata": {},
     "outputs": [],
     "prompt_number": 1
    },
    {
     "cell_type": "code",
     "collapsed": false,
     "input": [
      "# simulate genotypes \n",
      "n_variants = 10000\n",
      "n_samples = 100\n",
      "ploidy = 2\n",
      "af_dist = scipy.stats.beta(a=.1, b=6)\n",
      "p_missing = 0\n",
      "genotypes = anhima.sim.simulate_biallelic_genotypes(n_variants, n_samples, af_dist, p_missing, ploidy)\n",
      "\n",
      "# simulate three sub-populations with relatedness\n",
      "pop1_genotypes = anhima.sim.simulate_relatedness(genotypes[:, :n_samples//3], relatedness=.5, n_iter=100)\n",
      "pop23_genotypes = anhima.sim.simulate_relatedness(genotypes[:, n_samples//3:], relatedness=.5, n_iter=100)\n",
      "pop2_genotypes = anhima.sim.simulate_relatedness(pop23_genotypes[:, n_samples//3:], relatedness=.5, n_iter=20)\n",
      "pop3_genotypes = anhima.sim.simulate_relatedness(pop23_genotypes[:, :n_samples//3], relatedness=.5, n_iter=20)"
     ],
     "language": "python",
     "metadata": {},
     "outputs": [],
     "prompt_number": 2
    },
    {
     "cell_type": "code",
     "collapsed": false,
     "input": [
      "pop1_ac = anhima.af.allele_count(pop1_genotypes, allele=1)\n",
      "pop2_ac = anhima.af.allele_count(pop2_genotypes, allele=1)\n",
      "pop3_ac = anhima.af.allele_count(pop3_genotypes, allele=1)\n",
      "subpops_ac = np.column_stack([pop1_ac, pop2_ac, pop3_ac])"
     ],
     "language": "python",
     "metadata": {},
     "outputs": [],
     "prompt_number": 3
    },
    {
     "cell_type": "code",
     "collapsed": false,
     "input": [
      "# raw counts of shared doubletons\n",
      "counts = anhima.f2.count_shared_doubletons(subpops_ac)\n",
      "counts"
     ],
     "language": "python",
     "metadata": {},
     "outputs": [
      {
       "output_type": "pyout",
       "prompt_number": 4,
       "text": [
        "array([[53, 14, 13],\n",
        "       [14, 59, 79],\n",
        "       [13, 79, 44]])"
       ]
      }
     ],
     "prompt_number": 4
    },
    {
     "cell_type": "code",
     "collapsed": false,
     "input": [
      "subpop_labels = ['pop1', 'pop2', 'pop3']"
     ],
     "language": "python",
     "metadata": {},
     "outputs": [],
     "prompt_number": 5
    },
    {
     "cell_type": "code",
     "collapsed": false,
     "input": [
      "anhima.f2.plot_shared_doubletons(counts, \n",
      "                                 subpop_labels=subpop_labels);"
     ],
     "language": "python",
     "metadata": {},
     "outputs": [
      {
       "output_type": "display_data",
       "png": "[encoded data removed]",
       "text": [
        "<matplotlib.figure.Figure at 0xFFFFFFFFF>"
       ]
      }
     ],
     "prompt_number": 6
    },
    {
     "cell_type": "code",
     "collapsed": false,
     "input": [
      "anhima.f2.plot_shared_doubletons(counts, \n",
      "                                 subpop_labels=subpop_labels,\n",
      "                                 flip=True);"
     ],
     "language": "python",
     "metadata": {},
     "outputs": [
      {
       "output_type": "display_data",
       "png": "[encoded data removed]",
       "text": [
        "<matplotlib.figure.Figure at 0xFFFFFFFFF>"
       ]
      }
     ],
     "prompt_number": 7
    },
    {
     "cell_type": "code",
     "collapsed": false,
     "input": [
      "anhima.f2.plot_shared_doubletons(counts, \n",
      "                                 subpop_labels=subpop_labels,\n",
      "                                 relative=True);"
     ],
     "language": "python",
     "metadata": {},
     "outputs": [
      {
       "output_type": "display_data",
       "png": "[encoded data removed]",
       "text": [
        "<matplotlib.figure.Figure at 0xFFFFFFFFF>"
       ]
      }
     ],
     "prompt_number": 8
    },
    {
     "cell_type": "code",
     "collapsed": false,
     "input": [
      "n_samples = [pop1_genotypes.shape[1], pop2_genotypes.shape[1], pop3_genotypes.shape[1]]\n",
      "n_samples"
     ],
     "language": "python",
     "metadata": {},
     "outputs": [
      {
       "output_type": "pyout",
       "prompt_number": 9,
       "text": [
        "[33, 34, 33]"
       ]
      }
     ],
     "prompt_number": 9
    },
    {
     "cell_type": "code",
     "collapsed": false,
     "input": [
      "# normalise doubleton counts by the number of distinct pairs of haplotypes in each comparison\n",
      "counts_normed = anhima.f2.normalise_doubleton_counts(counts, n_samples=n_samples, ploidy=2)\n",
      "counts_normed"
     ],
     "language": "python",
     "metadata": {},
     "outputs": [
      {
       "output_type": "pyout",
       "prompt_number": 10,
       "text": [
        "array([[ 0.02470862,  0.00311943,  0.00298439],\n",
        "       [ 0.00311943,  0.02589991,  0.0176025 ],\n",
        "       [ 0.00298439,  0.0176025 ,  0.02051282]])"
       ]
      }
     ],
     "prompt_number": 10
    },
    {
     "cell_type": "code",
     "collapsed": false,
     "input": [
      "anhima.f2.plot_shared_doubletons(counts_normed, \n",
      "                                 subpop_labels=subpop_labels);"
     ],
     "language": "python",
     "metadata": {},
     "outputs": [
      {
       "output_type": "display_data",
       "png": "[encoded data removed]",
       "text": [
        "<matplotlib.figure.Figure at 0xFFFFFFFFF>"
       ]
      }
     ],
     "prompt_number": 11
    },
    {
     "cell_type": "code",
     "collapsed": false,
     "input": [
      "anhima.f2.plot_total_doubletons(counts, subpop_labels=subpop_labels);"
     ],
     "language": "python",
     "metadata": {},
     "outputs": [
      {
       "output_type": "display_data",
       "png": "[encoded data removed]",
       "text": [
        "<matplotlib.figure.Figure at 0xFFFFFFFFF>"
       ]
      }
     ],
     "prompt_number": 12
    },
    {
     "cell_type": "code",
     "collapsed": false,
     "input": [
      "anhima.f2.plot_total_doubletons(counts, subpop_labels=subpop_labels, orientation='horizontal');"
     ],
     "language": "python",
     "metadata": {},
     "outputs": [
      {
       "output_type": "display_data",
       "png": "[encoded data removed]",
       "text": [
        "<matplotlib.figure.Figure at 0xFFFFFFFFF>"
       ]
      }
     ],
     "prompt_number": 13
    },
    {
     "cell_type": "code",
     "collapsed": false,
     "input": [
      "anhima.f2.plot_f2_fig(counts, subpop_labels=subpop_labels, figsize_factor=1.5);"
     ],
     "language": "python",
     "metadata": {},
     "outputs": [
      {
       "output_type": "display_data",
       "png": "[encoded data removed]",
       "text": [
        "<matplotlib.figure.Figure at 0xFFFFFFFFF>"
       ]
      }
     ],
     "prompt_number": 14
    },
    {
     "cell_type": "code",
     "collapsed": false,
     "input": [
      "anhima.f2.plot_f2_fig(counts, subpop_labels=subpop_labels, figsize_factor=1.5, relative=True);"
     ],
     "language": "python",
     "metadata": {},
     "outputs": [
      {
       "output_type": "display_data",
       "png": "[encoded data removed]",
       "text": [
        "<matplotlib.figure.Figure at 0xFFFFFFFFF>"
       ]
      }
     ],
     "prompt_number": 15
    },
    {
     "cell_type": "code",
     "collapsed": false,
     "input": [
      "anhima.f2.plot_f2_fig(counts, \n",
      "                      subpop_labels=subpop_labels, \n",
      "                      figsize_factor=1.5, \n",
      "                      relative=True, \n",
      "                      normed=True, \n",
      "                      n_samples=n_samples, \n",
      "                      ploidy=2);"
     ],
     "language": "python",
     "metadata": {},
     "outputs": [
      {
       "output_type": "display_data",
       "png": "[encoded data removed]",
       "text": [
        "<matplotlib.figure.Figure at 0xFFFFFFFFF>"
       ]
      }
     ],
     "prompt_number": 16
    }
   ],
   "metadata": {}
  }
 ]
}