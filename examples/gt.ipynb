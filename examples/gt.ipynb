{
 "metadata": {
  "name": "",
  "signature": "sha256:cae8c779c86d4aa8a40387c8882d960fa23d4a62cba0f2d1dc0a33c69db64211"
 },
 "nbformat": 3,
 "nbformat_minor": 0,
 "worksheets": [
  {
   "cells": [
    {
     "cell_type": "heading",
     "level": 1,
     "metadata": {},
     "source": [
      "``anhima.gt`` - Genotype transformations"
     ]
    },
    {
     "cell_type": "code",
     "collapsed": false,
     "input": [
      "import numpy as np\n",
      "np.random.seed(1)\n",
      "import scipy.stats\n",
      "import random\n",
      "random.seed(1)\n",
      "import matplotlib.pyplot as plt\n",
      "%matplotlib inline\n",
      "import sys\n",
      "sys.path.insert(0, '../src')\n",
      "%load_ext autoreload\n",
      "%autoreload 1\n",
      "%aimport anhima.gt"
     ],
     "language": "python",
     "metadata": {},
     "outputs": [],
     "prompt_number": 1
    },
    {
     "cell_type": "heading",
     "level": 2,
     "metadata": {},
     "source": [
      "Simulate some genotypes"
     ]
    },
    {
     "cell_type": "code",
     "collapsed": false,
     "input": [
      "# simulate non-uniform variant positions\n",
      "n_variants = 1000\n",
      "p = 0\n",
      "pos = [p]\n",
      "for i in range(n_variants-1):\n",
      "    gap = int(np.abs(np.cos(i/100))*100)\n",
      "    p += gap\n",
      "    pos.append(p)\n",
      "pos = np.array(pos)"
     ],
     "language": "python",
     "metadata": {},
     "outputs": [],
     "prompt_number": 2
    },
    {
     "cell_type": "code",
     "collapsed": false,
     "input": [
      "# simulate genotypes \n",
      "n_samples = 100\n",
      "ploidy = 2\n",
      "af_dist = scipy.stats.beta(a=.4, b=.6)\n",
      "missingness = .1\n",
      "genotypes = anhima.gt.simulate_biallelic_genotypes(n_variants, n_samples, af_dist, missingness, ploidy)\n",
      "genotypes"
     ],
     "language": "python",
     "metadata": {},
     "outputs": [
      {
       "output_type": "pyout",
       "prompt_number": 3,
       "text": [
        "array([[[ 0,  0],\n",
        "        [ 1,  0],\n",
        "        [-1, -1],\n",
        "        ..., \n",
        "        [ 0,  0],\n",
        "        [ 0,  0],\n",
        "        [ 0,  0]],\n",
        "\n",
        "       [[-1, -1],\n",
        "        [ 0,  0],\n",
        "        [ 0,  0],\n",
        "        ..., \n",
        "        [ 0,  0],\n",
        "        [ 0,  0],\n",
        "        [ 0,  0]],\n",
        "\n",
        "       [[ 0,  0],\n",
        "        [ 0,  0],\n",
        "        [-1, -1],\n",
        "        ..., \n",
        "        [ 0,  0],\n",
        "        [ 1,  0],\n",
        "        [ 1,  0]],\n",
        "\n",
        "       ..., \n",
        "       [[ 0,  0],\n",
        "        [ 0,  0],\n",
        "        [ 0,  0],\n",
        "        ..., \n",
        "        [ 0,  0],\n",
        "        [ 0,  0],\n",
        "        [ 0,  0]],\n",
        "\n",
        "       [[ 1,  1],\n",
        "        [ 1,  1],\n",
        "        [ 1,  1],\n",
        "        ..., \n",
        "        [ 1,  1],\n",
        "        [ 1,  1],\n",
        "        [ 1,  1]],\n",
        "\n",
        "       [[ 0,  0],\n",
        "        [ 0,  0],\n",
        "        [ 1,  0],\n",
        "        ..., \n",
        "        [ 0,  0],\n",
        "        [ 0,  0],\n",
        "        [ 0,  0]]], dtype=int8)"
       ]
      }
     ],
     "prompt_number": 3
    },
    {
     "cell_type": "code",
     "collapsed": false,
     "input": [
      "genotypes.shape"
     ],
     "language": "python",
     "metadata": {},
     "outputs": [
      {
       "output_type": "pyout",
       "prompt_number": 4,
       "text": [
        "(1000, 100, 2)"
       ]
      }
     ],
     "prompt_number": 4
    },
    {
     "cell_type": "heading",
     "level": 2,
     "metadata": {},
     "source": [
      "Transform genotypes"
     ]
    },
    {
     "cell_type": "code",
     "collapsed": false,
     "input": [
      "anhima.gt.as_alleles(genotypes)"
     ],
     "language": "python",
     "metadata": {},
     "outputs": [
      {
       "output_type": "pyout",
       "prompt_number": 5,
       "text": [
        "array([[ 0,  0,  1, ...,  0,  0,  0],\n",
        "       [-1, -1,  0, ...,  0,  0,  0],\n",
        "       [ 0,  0,  0, ...,  0,  1,  0],\n",
        "       ..., \n",
        "       [ 0,  0,  0, ...,  0,  0,  0],\n",
        "       [ 1,  1,  1, ...,  1,  1,  1],\n",
        "       [ 0,  0,  0, ...,  0,  0,  0]], dtype=int8)"
       ]
      }
     ],
     "prompt_number": 5
    },
    {
     "cell_type": "code",
     "collapsed": false,
     "input": [
      "anhima.gt.as_n_alt(genotypes)"
     ],
     "language": "python",
     "metadata": {},
     "outputs": [
      {
       "output_type": "pyout",
       "prompt_number": 6,
       "text": [
        "array([[0, 1, 0, ..., 0, 0, 0],\n",
        "       [0, 0, 0, ..., 0, 0, 0],\n",
        "       [0, 0, 0, ..., 0, 1, 1],\n",
        "       ..., \n",
        "       [0, 0, 0, ..., 0, 0, 0],\n",
        "       [2, 2, 2, ..., 2, 2, 2],\n",
        "       [0, 0, 1, ..., 0, 0, 0]], dtype=int8)"
       ]
      }
     ],
     "prompt_number": 6
    },
    {
     "cell_type": "code",
     "collapsed": false,
     "input": [
      "anhima.gt.as_diploid_012(genotypes)"
     ],
     "language": "python",
     "metadata": {},
     "outputs": [
      {
       "output_type": "pyout",
       "prompt_number": 7,
       "text": [
        "array([[ 0,  1, -1, ...,  0,  0,  0],\n",
        "       [-1,  0,  0, ...,  0,  0,  0],\n",
        "       [ 0,  0, -1, ...,  0,  1,  1],\n",
        "       ..., \n",
        "       [ 0,  0,  0, ...,  0,  0,  0],\n",
        "       [ 2,  2,  2, ...,  2,  2,  2],\n",
        "       [ 0,  0,  1, ...,  0,  0,  0]], dtype=int8)"
       ]
      }
     ],
     "prompt_number": 7
    },
    {
     "cell_type": "heading",
     "level": 2,
     "metadata": {},
     "source": [
      "Count genotypes"
     ]
    },
    {
     "cell_type": "code",
     "collapsed": false,
     "input": [
      "n_called = anhima.gt.count_called(genotypes)\n",
      "n_called"
     ],
     "language": "python",
     "metadata": {},
     "outputs": [
      {
       "output_type": "pyout",
       "prompt_number": 8,
       "text": [
        "90000"
       ]
      }
     ],
     "prompt_number": 8
    },
    {
     "cell_type": "code",
     "collapsed": false,
     "input": [
      "n_missing = anhima.gt.count_missing(genotypes)\n",
      "n_missing"
     ],
     "language": "python",
     "metadata": {},
     "outputs": [
      {
       "output_type": "pyout",
       "prompt_number": 9,
       "text": [
        "10000"
       ]
      }
     ],
     "prompt_number": 9
    },
    {
     "cell_type": "code",
     "collapsed": false,
     "input": [
      "n_hom_ref = anhima.gt.count_hom_ref(genotypes)\n",
      "n_hom_ref"
     ],
     "language": "python",
     "metadata": {},
     "outputs": [
      {
       "output_type": "pyout",
       "prompt_number": 10,
       "text": [
        "44538"
       ]
      }
     ],
     "prompt_number": 10
    },
    {
     "cell_type": "code",
     "collapsed": false,
     "input": [
      "n_het = anhima.gt.count_het_diploid(genotypes)\n",
      "n_het"
     ],
     "language": "python",
     "metadata": {},
     "outputs": [
      {
       "output_type": "pyout",
       "prompt_number": 11,
       "text": [
        "21827"
       ]
      }
     ],
     "prompt_number": 11
    },
    {
     "cell_type": "code",
     "collapsed": false,
     "input": [
      "n_hom_alt = anhima.gt.count_hom_alt_diploid(genotypes)\n",
      "n_hom_alt"
     ],
     "language": "python",
     "metadata": {},
     "outputs": [
      {
       "output_type": "pyout",
       "prompt_number": 12,
       "text": [
        "23635"
       ]
      }
     ],
     "prompt_number": 12
    },
    {
     "cell_type": "code",
     "collapsed": false,
     "input": [
      "n_missing + n_hom_ref + n_het + n_hom_alt"
     ],
     "language": "python",
     "metadata": {},
     "outputs": [
      {
       "output_type": "pyout",
       "prompt_number": 13,
       "text": [
        "100000"
       ]
      }
     ],
     "prompt_number": 13
    },
    {
     "cell_type": "heading",
     "level": 2,
     "metadata": {},
     "source": [
      "Plot genotypes for a single sample"
     ]
    },
    {
     "cell_type": "code",
     "collapsed": false,
     "input": [
      "gn = anhima.gt.as_diploid_012(genotypes)"
     ],
     "language": "python",
     "metadata": {},
     "outputs": [],
     "prompt_number": 14
    },
    {
     "cell_type": "code",
     "collapsed": false,
     "input": [
      "# plot missingness counts for sample 0\n",
      "anhima.gt.windowed_genotype_counts_plot(pos, gn[:, 0], -1, 1000);"
     ],
     "language": "python",
     "metadata": {},
     "outputs": [
      {
       "output_type": "display_data",
       "png": "[encoded data removed]",
       "text": [
        "<matplotlib.figure.Figure at 0x7f95c807b5d0>"
       ]
      }
     ],
     "prompt_number": 15
    },
    {
     "cell_type": "code",
     "collapsed": false,
     "input": [
      "# plot missingness rate for sample 0\n",
      "anhima.gt.windowed_genotype_rate_plot(pos, gn[:, 0], -1, 3000);"
     ],
     "language": "python",
     "metadata": {},
     "outputs": [
      {
       "output_type": "display_data",
       "png": "[encoded data removed]",
       "text": [
        "<matplotlib.figure.Figure at 0x7f95a49af1d0>"
       ]
      }
     ],
     "prompt_number": 16
    },
    {
     "cell_type": "code",
     "collapsed": false,
     "input": [
      "# plot heterozygosity density for sample 0\n",
      "anhima.gt.windowed_genotype_density_plot(pos, gn[:, 0], 1, 1000);"
     ],
     "language": "python",
     "metadata": {},
     "outputs": [
      {
       "output_type": "display_data",
       "png": "[encoded data removed]",
       "text": [
        "<matplotlib.figure.Figure at 0x7f95a4823a90>"
       ]
      }
     ],
     "prompt_number": 17
    },
    {
     "cell_type": "code",
     "collapsed": false,
     "input": [
      "# plot hom alt density for sample 0\n",
      "anhima.gt.windowed_genotype_density_plot(pos, gn[:, 0], 2, 1000);"
     ],
     "language": "python",
     "metadata": {},
     "outputs": [
      {
       "output_type": "display_data",
       "png": "[encoded data removed]",
       "text": [
        "<matplotlib.figure.Figure at 0x7f95a4a15450>"
       ]
      }
     ],
     "prompt_number": 18
    },
    {
     "cell_type": "code",
     "collapsed": false,
     "input": [],
     "language": "python",
     "metadata": {},
     "outputs": [],
     "prompt_number": 19
    }
   ],
   "metadata": {}
  }
 ]
}