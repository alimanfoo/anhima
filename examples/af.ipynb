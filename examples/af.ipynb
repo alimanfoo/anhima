{
 "metadata": {
  "name": "",
  "signature": "sha256:b0c887c5a5694acb79ce1c574bf670b0ef52058054d0c3dc36edd65b48b81362"
 },
 "nbformat": 3,
 "nbformat_minor": 0,
 "worksheets": [
  {
   "cells": [
    {
     "cell_type": "heading",
     "level": 1,
     "metadata": {},
     "source": [
      "[``anhima.af``](http://anhima.readthedocs.org/en/latest/af.html) - Allele frequencies"
     ]
    },
    {
     "cell_type": "code",
     "collapsed": false,
     "input": [
      "from __future__ import division, print_function\n",
      "import numpy as np\n",
      "np.random.seed(1)\n",
      "import scipy.stats\n",
      "import random\n",
      "random.seed(1)\n",
      "import matplotlib.pyplot as plt\n",
      "%matplotlib inline\n",
      "import sys\n",
      "import anhima\n",
      "# # dev imports\n",
      "# sys.path.insert(0, '../src')\n",
      "# %reload_ext autoreload\n",
      "# %autoreload 1\n",
      "# %aimport anhima.sim\n",
      "# %aimport anhima.gt\n",
      "# %aimport anhima.af"
     ],
     "language": "python",
     "metadata": {},
     "outputs": [],
     "prompt_number": 1
    },
    {
     "cell_type": "code",
     "collapsed": false,
     "input": [
      "# simulate genotypes \n",
      "n_variants = 1000\n",
      "n_samples = 1000\n",
      "ploidy = 2\n",
      "af_dist = scipy.stats.beta(a=.4, b=.6)\n",
      "p_missing = .1\n",
      "genotypes = anhima.sim.simulate_biallelic_genotypes(n_variants, n_samples, af_dist, p_missing, ploidy)"
     ],
     "language": "python",
     "metadata": {},
     "outputs": [],
     "prompt_number": 2
    },
    {
     "cell_type": "code",
     "collapsed": false,
     "input": [
      "anhima.af.count_variant(genotypes)"
     ],
     "language": "python",
     "metadata": {},
     "outputs": [
      {
       "output_type": "pyout",
       "prompt_number": 3,
       "text": [
        "962"
       ]
      }
     ],
     "prompt_number": 3
    },
    {
     "cell_type": "code",
     "collapsed": false,
     "input": [
      "anhima.af.count_non_variant(genotypes)"
     ],
     "language": "python",
     "metadata": {},
     "outputs": [
      {
       "output_type": "pyout",
       "prompt_number": 4,
       "text": [
        "38"
       ]
      }
     ],
     "prompt_number": 4
    },
    {
     "cell_type": "code",
     "collapsed": false,
     "input": [
      "n_seg = anhima.af.count_segregating(genotypes)\n",
      "n_seg"
     ],
     "language": "python",
     "metadata": {},
     "outputs": [
      {
       "output_type": "pyout",
       "prompt_number": 5,
       "text": [
        "958"
       ]
      }
     ],
     "prompt_number": 5
    },
    {
     "cell_type": "code",
     "collapsed": false,
     "input": [
      "n_non_seg = anhima.af.count_non_segregating(genotypes)\n",
      "n_non_seg"
     ],
     "language": "python",
     "metadata": {},
     "outputs": [
      {
       "output_type": "pyout",
       "prompt_number": 6,
       "text": [
        "42"
       ]
      }
     ],
     "prompt_number": 6
    },
    {
     "cell_type": "code",
     "collapsed": false,
     "input": [
      "assert n_seg + n_non_seg == n_variants"
     ],
     "language": "python",
     "metadata": {},
     "outputs": [],
     "prompt_number": 7
    },
    {
     "cell_type": "code",
     "collapsed": false,
     "input": [
      "n_non_seg_ref = anhima.af.count_non_segregating(genotypes, allele=0)\n",
      "n_non_seg_ref"
     ],
     "language": "python",
     "metadata": {},
     "outputs": [
      {
       "output_type": "pyout",
       "prompt_number": 8,
       "text": [
        "38"
       ]
      }
     ],
     "prompt_number": 8
    },
    {
     "cell_type": "code",
     "collapsed": false,
     "input": [
      "n_non_seg_alt = anhima.af.count_non_segregating(genotypes, allele=1)\n",
      "n_non_seg_alt"
     ],
     "language": "python",
     "metadata": {},
     "outputs": [
      {
       "output_type": "pyout",
       "prompt_number": 9,
       "text": [
        "4"
       ]
      }
     ],
     "prompt_number": 9
    },
    {
     "cell_type": "code",
     "collapsed": false,
     "input": [
      "assert n_non_seg == n_non_seg_ref + n_non_seg_alt"
     ],
     "language": "python",
     "metadata": {},
     "outputs": [],
     "prompt_number": 10
    },
    {
     "cell_type": "code",
     "collapsed": false,
     "input": [
      "anhima.af.count_singletons(genotypes)"
     ],
     "language": "python",
     "metadata": {},
     "outputs": [
      {
       "output_type": "pyout",
       "prompt_number": 11,
       "text": [
        "12"
       ]
      }
     ],
     "prompt_number": 11
    },
    {
     "cell_type": "code",
     "collapsed": false,
     "input": [
      "anhima.af.count_doubletons(genotypes)"
     ],
     "language": "python",
     "metadata": {},
     "outputs": [
      {
       "output_type": "pyout",
       "prompt_number": 12,
       "text": [
        "9"
       ]
      }
     ],
     "prompt_number": 12
    },
    {
     "cell_type": "code",
     "collapsed": false,
     "input": [
      "an, ac, af = anhima.af.allele_frequencies(genotypes)"
     ],
     "language": "python",
     "metadata": {},
     "outputs": [],
     "prompt_number": 13
    },
    {
     "cell_type": "code",
     "collapsed": false,
     "input": [
      "# plot actual distribution of alt allele frequencies\n",
      "plt.hist(af[:, 1], bins=20);"
     ],
     "language": "python",
     "metadata": {},
     "outputs": [
      {
       "output_type": "display_data",
       "png": "[encoded data removed]",
       "text": [
        "<matplotlib.figure.Figure at 0xFFFFFFFFF>"
       ]
      }
     ],
     "prompt_number": 14
    }
   ],
   "metadata": {}
  }
 ]
}