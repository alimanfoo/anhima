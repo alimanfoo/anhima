{
 "metadata": {
  "name": "",
  "signature": "sha256:d43c14c62e20aae787e25c88f06c5c0e62984577685ae40e1325a621d67b08f1"
 },
 "nbformat": 3,
 "nbformat_minor": 0,
 "worksheets": [
  {
   "cells": [
    {
     "cell_type": "code",
     "collapsed": false,
     "input": [
      "import numpy as np\n",
      "%reload_ext cythonmagic\n",
      "%reload_ext memory_profiler"
     ],
     "language": "python",
     "metadata": {},
     "outputs": [],
     "prompt_number": 1
    },
    {
     "cell_type": "code",
     "collapsed": false,
     "input": [
      "pos1 = np.random.randint(0, 10000000, size=10000000)\n",
      "pos1 = np.unique(pos1)\n",
      "pos1.shape"
     ],
     "language": "python",
     "metadata": {},
     "outputs": [
      {
       "metadata": {},
       "output_type": "pyout",
       "prompt_number": 2,
       "text": [
        "(6320932,)"
       ]
      }
     ],
     "prompt_number": 2
    },
    {
     "cell_type": "code",
     "collapsed": false,
     "input": [
      "pos2 = np.random.randint(0, 10000000, size=10000000)\n",
      "pos2 = np.unique(pos2)\n",
      "pos2.shape"
     ],
     "language": "python",
     "metadata": {},
     "outputs": [
      {
       "metadata": {},
       "output_type": "pyout",
       "prompt_number": 3,
       "text": [
        "(6322562,)"
       ]
      }
     ],
     "prompt_number": 3
    },
    {
     "cell_type": "code",
     "collapsed": false,
     "input": [
      "pos1"
     ],
     "language": "python",
     "metadata": {},
     "outputs": [
      {
       "metadata": {},
       "output_type": "pyout",
       "prompt_number": 4,
       "text": [
        "array([      1,       3,       4, ..., 9999992, 9999993, 9999996])"
       ]
      }
     ],
     "prompt_number": 4
    },
    {
     "cell_type": "code",
     "collapsed": false,
     "input": [
      "pos2"
     ],
     "language": "python",
     "metadata": {},
     "outputs": [
      {
       "metadata": {},
       "output_type": "pyout",
       "prompt_number": 6,
       "text": [
        "array([      0,       1,       3, ..., 9999993, 9999994, 9999998])"
       ]
      }
     ],
     "prompt_number": 6
    },
    {
     "cell_type": "code",
     "collapsed": false,
     "input": [
      "def intersect_positions_impl1(pos1, pos2):\n",
      "    cond1 = np.in1d(pos1, pos2)\n",
      "    cond2 = np.in1d(pos2, pos1)\n",
      "    return cond1, cond2"
     ],
     "language": "python",
     "metadata": {},
     "outputs": [],
     "prompt_number": 7
    },
    {
     "cell_type": "code",
     "collapsed": false,
     "input": [
      "cond1, cond2 = intersect_positions_impl1(pos1, pos2)"
     ],
     "language": "python",
     "metadata": {},
     "outputs": [],
     "prompt_number": 8
    },
    {
     "cell_type": "code",
     "collapsed": false,
     "input": [
      "pos1[cond1]"
     ],
     "language": "python",
     "metadata": {},
     "outputs": [
      {
       "metadata": {},
       "output_type": "pyout",
       "prompt_number": 9,
       "text": [
        "array([      1,       3,      10, ..., 9999991, 9999992, 9999993])"
       ]
      }
     ],
     "prompt_number": 9
    },
    {
     "cell_type": "code",
     "collapsed": false,
     "input": [
      "pos2[cond2]"
     ],
     "language": "python",
     "metadata": {},
     "outputs": [
      {
       "metadata": {},
       "output_type": "pyout",
       "prompt_number": 10,
       "text": [
        "array([      1,       3,      10, ..., 9999991, 9999992, 9999993])"
       ]
      }
     ],
     "prompt_number": 10
    },
    {
     "cell_type": "code",
     "collapsed": false,
     "input": [
      "np.count_nonzero(cond1)"
     ],
     "language": "python",
     "metadata": {},
     "outputs": [
      {
       "metadata": {},
       "output_type": "pyout",
       "prompt_number": 11,
       "text": [
        "3996563"
       ]
      }
     ],
     "prompt_number": 11
    },
    {
     "cell_type": "code",
     "collapsed": false,
     "input": [
      "%timeit intersect_positions_impl1(pos1, pos2)"
     ],
     "language": "python",
     "metadata": {},
     "outputs": [
      {
       "output_type": "stream",
       "stream": "stdout",
       "text": [
        "1 loops, best of 3: 3.49 s per loop\n"
       ]
      }
     ],
     "prompt_number": 12
    },
    {
     "cell_type": "code",
     "collapsed": false,
     "input": [
      "%memit intersect_positions_impl1(pos1, pos2)"
     ],
     "language": "python",
     "metadata": {},
     "outputs": [
      {
       "output_type": "stream",
       "stream": "stdout",
       "text": [
        "peak memory: 835.46 MiB, increment: 578.66 MiB\n"
       ]
      }
     ],
     "prompt_number": 13
    },
    {
     "cell_type": "code",
     "collapsed": false,
     "input": [
      "%%cython\n",
      "\n",
      "import numpy as np\n",
      "cimport numpy as np\n",
      "\n",
      "def intersect_positions_impl2(np.ndarray[np.int64_t, ndim=1] pos1, \n",
      "                              np.ndarray[np.int64_t, ndim=1] pos2):\n",
      "    cdef int i = 0\n",
      "    cdef int j = 0\n",
      "    cdef np.ndarray[np.uint8_t, ndim=1] cond1\n",
      "    cdef np.ndarray[np.uint8_t, ndim=1] cond2\n",
      "    cond1 = np.zeros((pos1.size, ), dtype=np.uint8)\n",
      "    cond2 = np.zeros((pos2.size, ), dtype=np.uint8)\n",
      "    cdef int m = pos1.size\n",
      "    cdef int n = pos2.size\n",
      "    \n",
      "    while i < m and j < n:\n",
      "        if pos1[i] < pos2[j]:\n",
      "            # advance left\n",
      "            i += 1\n",
      "        elif pos1[i] > pos2[j]:\n",
      "            # advance right\n",
      "            j += 1\n",
      "        else:\n",
      "            # match\n",
      "            cond1[i] = 1\n",
      "            cond2[j] = 1\n",
      "            # advance both\n",
      "            i += 1\n",
      "            j += 1\n",
      "            \n",
      "    return cond1.astype('b1'), cond2.astype('b1')"
     ],
     "language": "python",
     "metadata": {},
     "outputs": [],
     "prompt_number": 14
    },
    {
     "cell_type": "code",
     "collapsed": false,
     "input": [
      "cond1, cond2 = intersect_positions_impl2(pos1, pos2)"
     ],
     "language": "python",
     "metadata": {},
     "outputs": [],
     "prompt_number": 20
    },
    {
     "cell_type": "code",
     "collapsed": false,
     "input": [
      "pos1[cond1]"
     ],
     "language": "python",
     "metadata": {},
     "outputs": [
      {
       "metadata": {},
       "output_type": "pyout",
       "prompt_number": 21,
       "text": [
        "array([      1,       3,      10, ..., 9999991, 9999992, 9999993])"
       ]
      }
     ],
     "prompt_number": 21
    },
    {
     "cell_type": "code",
     "collapsed": false,
     "input": [
      "pos2[cond2]"
     ],
     "language": "python",
     "metadata": {},
     "outputs": [
      {
       "metadata": {},
       "output_type": "pyout",
       "prompt_number": 22,
       "text": [
        "array([      1,       3,      10, ..., 9999991, 9999992, 9999993])"
       ]
      }
     ],
     "prompt_number": 22
    },
    {
     "cell_type": "code",
     "collapsed": false,
     "input": [
      "np.count_nonzero(cond1)"
     ],
     "language": "python",
     "metadata": {},
     "outputs": [
      {
       "metadata": {},
       "output_type": "pyout",
       "prompt_number": 25,
       "text": [
        "3996563"
       ]
      }
     ],
     "prompt_number": 25
    },
    {
     "cell_type": "code",
     "collapsed": false,
     "input": [
      "%timeit intersect_positions_impl2(pos1, pos2)"
     ],
     "language": "python",
     "metadata": {},
     "outputs": [
      {
       "output_type": "stream",
       "stream": "stdout",
       "text": [
        "10 loops, best of 3: 98.9 ms per loop\n"
       ]
      }
     ],
     "prompt_number": 23
    },
    {
     "cell_type": "code",
     "collapsed": false,
     "input": [
      "%memit intersect_positions_impl2(pos1, pos2)"
     ],
     "language": "python",
     "metadata": {},
     "outputs": [
      {
       "output_type": "stream",
       "stream": "stdout",
       "text": [
        "peak memory: 361.19 MiB, increment: 0.01 MiB\n"
       ]
      }
     ],
     "prompt_number": 24
    },
    {
     "cell_type": "code",
     "collapsed": false,
     "input": [
      "pos1.nbytes / 1.e6"
     ],
     "language": "python",
     "metadata": {},
     "outputs": [
      {
       "metadata": {},
       "output_type": "pyout",
       "prompt_number": 27,
       "text": [
        "50.567456"
       ]
      }
     ],
     "prompt_number": 27
    },
    {
     "cell_type": "code",
     "collapsed": false,
     "input": [],
     "language": "python",
     "metadata": {},
     "outputs": []
    }
   ],
   "metadata": {}
  }
 ]
}